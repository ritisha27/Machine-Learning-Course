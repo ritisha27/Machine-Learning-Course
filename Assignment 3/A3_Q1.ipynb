{
  "cells": [
    {
      "cell_type": "code",
      "execution_count": null,
      "metadata": {
        "id": "HwkEq9Cev3L8"
      },
      "outputs": [],
      "source": [
        "import numpy as np\n",
        "import pandas as pd\n",
        "import matplotlib.pyplot as plt\n",
        "import seaborn as sns\n",
        "import tensorflow as tf\n",
        "from sklearn.model_selection import train_test_split\n",
        "from sklearn.svm import SVC # \"Support vector classifier\"  \n",
        "from sklearn.metrics import classification_report, confusion_matrix, accuracy_score\n",
        "from sklearn.model_selection import GridSearchCV\n",
        "from sklearn.decomposition import PCA\n",
        "import warnings\n",
        "warnings.filterwarnings('ignore')"
      ]
    },
    {
      "cell_type": "markdown",
      "metadata": {
        "id": "YZAu7MtyOM5K"
      },
      "source": [
        "##a) (i). Loading MNIST dataset and doing data preparation."
      ]
    },
    {
      "cell_type": "code",
      "execution_count": null,
      "metadata": {
        "id": "refZTCBC7jdH"
      },
      "outputs": [],
      "source": [
        "(x_train_images, y_train_labels), (x_test_images, y_test_labels) = tf.keras.datasets.mnist.load_data()  # split dataset into training and test set while loading it"
      ]
    },
    {
      "cell_type": "code",
      "execution_count": null,
      "metadata": {
        "colab": {
          "base_uri": "https://localhost:8080/"
        },
        "id": "wFHr8i1l7mcT",
        "outputId": "94a9e13c-8a90-459a-f11d-02694e748ecd"
      },
      "outputs": [
        {
          "output_type": "stream",
          "name": "stdout",
          "text": [
            "(60000, 28, 28)\n",
            "(60000,)\n",
            "(10000, 28, 28)\n",
            "(10000,)\n"
          ]
        },
        {
          "output_type": "execute_result",
          "data": {
            "text/plain": [
              "numpy.ndarray"
            ]
          },
          "metadata": {},
          "execution_count": 3
        }
      ],
      "source": [
        "print(x_train_images.shape)\n",
        "print(y_train_labels.shape)\n",
        "print(x_test_images.shape)\n",
        "print(y_test_labels.shape)\n",
        "type(x_train_images)"
      ]
    },
    {
      "cell_type": "code",
      "execution_count": null,
      "metadata": {
        "colab": {
          "base_uri": "https://localhost:8080/",
          "height": 282
        },
        "id": "LlWPgx_5xxF_",
        "outputId": "2d14cec8-d085-4f92-bd1e-e733e89fec2e"
      },
      "outputs": [
        {
          "output_type": "execute_result",
          "data": {
            "text/plain": [
              "<matplotlib.image.AxesImage at 0x7fc2ad901cd0>"
            ]
          },
          "metadata": {},
          "execution_count": 4
        },
        {
          "output_type": "display_data",
          "data": {
            "text/plain": [
              "<Figure size 432x288 with 1 Axes>"
            ],
            "image/png": "[encoded data removed]"
          },
          "metadata": {
            "needs_background": "light"
          }
        }
      ],
      "source": [
        "plt.imshow(x_train_images[0])"
      ]
    },
    {
      "cell_type": "code",
      "execution_count": null,
      "metadata": {
        "id": "geHqc_ob1K5J"
      },
      "outputs": [],
      "source": [
        "#converting to 2dimensional numpy array\n",
        "x_train_images = x_train_images.reshape((-1,784))\n",
        "x_test_images = x_test_images.reshape((-1,784))"
      ]
    },
    {
      "cell_type": "code",
      "execution_count": null,
      "metadata": {
        "colab": {
          "base_uri": "https://localhost:8080/"
        },
        "id": "Yh5YBewM2BPu",
        "outputId": "4821ff6b-79a2-4b84-e77b-11192d6d7926"
      },
      "outputs": [
        {
          "output_type": "stream",
          "name": "stdout",
          "text": [
            "X_train_labels shape: (60000, 784)\n",
            "Y_train_labels shape: (60000,)\n",
            "X_test_labels shape: (10000, 784)\n",
            "Y_test_labels shape: (10000,)\n"
          ]
        }
      ],
      "source": [
        "#converted into 2D\n",
        "print('X_train_labels shape: {}'.format(x_train_images.shape))\n",
        "print('Y_train_labels shape: {}'.format(y_train_labels.shape))\n",
        "print('X_test_labels shape: {}'.format(x_test_images.shape))\n",
        "print('Y_test_labels shape: {}'.format(y_test_labels.shape))"
      ]
    },
    {
      "cell_type": "code",
      "execution_count": null,
      "metadata": {
        "colab": {
          "base_uri": "https://localhost:8080/"
        },
        "id": "Uk9RzNOuz1du",
        "outputId": "1fc56e2e-8db4-47a8-b5d4-cdbc239789e5"
      },
      "outputs": [
        {
          "output_type": "execute_result",
          "data": {
            "text/plain": [
              "numpy.ndarray"
            ]
          },
          "metadata": {},
          "execution_count": 8
        }
      ],
      "source": [
        "type(x_train_images)"
      ]
    },
    {
      "cell_type": "markdown",
      "metadata": {
        "id": "XykHjHAEyH8O"
      },
      "source": [
        "###As the computational time is very high for such a large dataset,we are again doing train_test_split of training dataset i.e. 60k entries so as to reduce the total data points and computational time as well."
      ]
    },
    {
      "cell_type": "code",
      "execution_count": null,
      "metadata": {
        "colab": {
          "base_uri": "https://localhost:8080/"
        },
        "id": "s3HTeVu0VGdt",
        "outputId": "166c5e42-7f84-47ce-8751-10cb06dc0ca6"
      },
      "outputs": [
        {
          "output_type": "execute_result",
          "data": {
            "text/plain": [
              "numpy.ndarray"
            ]
          },
          "metadata": {},
          "execution_count": 9
        }
      ],
      "source": [
        "# Use StandardScaler to normalize df_x_train and df_x_test\n",
        "from sklearn.preprocessing import StandardScaler\n",
        "scaler = StandardScaler()\n",
        "\n",
        "x_train_images = x_train_images/255.0                           #normalise value earlier.\n",
        "scaled_x_train = scaler.fit_transform(x_train_images)\n",
        "type(scaled_x_train)"
      ]
    },
    {
      "cell_type": "code",
      "execution_count": null,
      "metadata": {
        "id": "NcyRpkpQyHMu"
      },
      "outputs": [],
      "source": [
        "X_train, X_test, y_train, y_test = train_test_split(scaled_x_train, y_train_labels, test_size=0.3, random_state=30)"
      ]
    },
    {
      "cell_type": "markdown",
      "metadata": {
        "id": "UCqkiM3T6vVa"
      },
      "source": [
        "###Finally we got our final dataset with shape as follows:"
      ]
    },
    {
      "cell_type": "code",
      "execution_count": null,
      "metadata": {
        "colab": {
          "base_uri": "https://localhost:8080/"
        },
        "id": "BaBl1rRk6YxJ",
        "outputId": "fed3081e-e57a-4a57-b1c5-76da82270482"
      },
      "outputs": [
        {
          "output_type": "stream",
          "name": "stdout",
          "text": [
            "(42000, 784)\n",
            "(42000,)\n",
            "(18000, 784)\n",
            "(18000,)\n",
            "<class 'numpy.ndarray'>\n",
            "<class 'numpy.ndarray'>\n",
            "<class 'numpy.ndarray'>\n",
            "<class 'numpy.ndarray'>\n"
          ]
        }
      ],
      "source": [
        "#after splitting traning dataset to sub sample X_train and y_train.\n",
        "print(X_train.shape)\n",
        "print(y_train.shape)\n",
        "print(X_test.shape)\n",
        "print(y_test.shape)\n",
        "\n",
        "\n",
        "print(type(X_train))\n",
        "print(type(y_train))\n",
        "print(type(X_test))\n",
        "print(type(y_test))"
      ]
    },
    {
      "cell_type": "markdown",
      "metadata": {
        "id": "1S5kitCSCJ8A"
      },
      "source": [
        "##a) (i) build a linear SVM classifier i.e. SVC ( Support Vector Classifier)"
      ]
    },
    {
      "cell_type": "code",
      "execution_count": null,
      "metadata": {
        "colab": {
          "base_uri": "https://localhost:8080/"
        },
        "id": "FUKSN9ck6qd_",
        "outputId": "ea1467d6-2226-43c1-c157-66e5521adeb6"
      },
      "outputs": [
        {
          "output_type": "execute_result",
          "data": {
            "text/plain": [
              "SVC(kernel='linear')"
            ]
          },
          "metadata": {},
          "execution_count": 12
        }
      ],
      "source": [
        "svc_classifier = SVC(kernel='linear')  \n",
        "svc_classifier.fit(X_train, y_train)  "
      ]
    },
    {
      "cell_type": "markdown",
      "metadata": {
        "id": "PuZt4bqkQLiw"
      },
      "source": [
        "##(ii) Prediction of first 20 values and display confusion matrix."
      ]
    },
    {
      "cell_type": "code",
      "execution_count": null,
      "metadata": {
        "colab": {
          "base_uri": "https://localhost:8080/",
          "height": 676
        },
        "id": "h6Sj4wos653e",
        "outputId": "8f7c3d42-4c58-4dee-bd85-884196bac7d6"
      },
      "outputs": [
        {
          "output_type": "execute_result",
          "data": {
            "text/plain": [
              "    y_train  y_prediction\n",
              "0         9             9\n",
              "1         2             2\n",
              "2         0             0\n",
              "3         1             1\n",
              "4         6             6\n",
              "5         5             5\n",
              "6         4             4\n",
              "7         9             9\n",
              "8         6             6\n",
              "9         3             3\n",
              "10        0             0\n",
              "11        2             2\n",
              "12        0             0\n",
              "13        2             2\n",
              "14        3             9\n",
              "15        4             4\n",
              "16        2             2\n",
              "17        5             5\n",
              "18        1             1\n",
              "19        7             9"
            ],
            "text/html": [
              "\n",
              "  <div id=\"df-7614d5b0-cd55-47e5-b40a-29fbd9530b64\">\n",
              "    <div class=\"colab-df-container\">\n",
              "      <div>\n",
              "<style scoped>\n",
              "    .dataframe tbody tr th:only-of-type {\n",
              "        vertical-align: middle;\n",
              "    }\n",
              "\n",
              "    .dataframe tbody tr th {\n",
              "        vertical-align: top;\n",
              "    }\n",
              "\n",
              "    .dataframe thead th {\n",
              "        text-align: right;\n",
              "    }\n",
              "</style>\n",
              "<table border=\"1\" class=\"dataframe\">\n",
              "  <thead>\n",
              "    <tr style=\"text-align: right;\">\n",
              "      <th></th>\n",
              "      <th>y_train</th>\n",
              "      <th>y_prediction</th>\n",
              "    </tr>\n",
              "  </thead>\n",
              "  <tbody>\n",
              "    <tr>\n",
              "      <th>0</th>\n",
              "      <td>9</td>\n",
              "      <td>9</td>\n",
              "    </tr>\n",
              "    <tr>\n",
              "      <th>1</th>\n",
              "      <td>2</td>\n",
              "      <td>2</td>\n",
              "    </tr>\n",
              "    <tr>\n",
              "      <th>2</th>\n",
              "      <td>0</td>\n",
              "      <td>0</td>\n",
              "    </tr>\n",
              "    <tr>\n",
              "      <th>3</th>\n",
              "      <td>1</td>\n",
              "      <td>1</td>\n",
              "    </tr>\n",
              "    <tr>\n",
              "      <th>4</th>\n",
              "      <td>6</td>\n",
              "      <td>6</td>\n",
              "    </tr>\n",
              "    <tr>\n",
              "      <th>5</th>\n",
              "      <td>5</td>\n",
              "      <td>5</td>\n",
              "    </tr>\n",
              "    <tr>\n",
              "      <th>6</th>\n",
              "      <td>4</td>\n",
              "      <td>4</td>\n",
              "    </tr>\n",
              "    <tr>\n",
              "      <th>7</th>\n",
              "      <td>9</td>\n",
              "      <td>9</td>\n",
              "    </tr>\n",
              "    <tr>\n",
              "      <th>8</th>\n",
              "      <td>6</td>\n",
              "      <td>6</td>\n",
              "    </tr>\n",
              "    <tr>\n",
              "      <th>9</th>\n",
              "      <td>3</td>\n",
              "      <td>3</td>\n",
              "    </tr>\n",
              "    <tr>\n",
              "      <th>10</th>\n",
              "      <td>0</td>\n",
              "      <td>0</td>\n",
              "    </tr>\n",
              "    <tr>\n",
              "      <th>11</th>\n",
              "      <td>2</td>\n",
              "      <td>2</td>\n",
              "    </tr>\n",
              "    <tr>\n",
              "      <th>12</th>\n",
              "      <td>0</td>\n",
              "      <td>0</td>\n",
              "    </tr>\n",
              "    <tr>\n",
              "      <th>13</th>\n",
              "      <td>2</td>\n",
              "      <td>2</td>\n",
              "    </tr>\n",
              "    <tr>\n",
              "      <th>14</th>\n",
              "      <td>3</td>\n",
              "      <td>9</td>\n",
              "    </tr>\n",
              "    <tr>\n",
              "      <th>15</th>\n",
              "      <td>4</td>\n",
              "      <td>4</td>\n",
              "    </tr>\n",
              "    <tr>\n",
              "      <th>16</th>\n",
              "      <td>2</td>\n",
              "      <td>2</td>\n",
              "    </tr>\n",
              "    <tr>\n",
              "      <th>17</th>\n",
              "      <td>5</td>\n",
              "      <td>5</td>\n",
              "    </tr>\n",
              "    <tr>\n",
              "      <th>18</th>\n",
              "      <td>1</td>\n",
              "      <td>1</td>\n",
              "    </tr>\n",
              "    <tr>\n",
              "      <th>19</th>\n",
              "      <td>7</td>\n",
              "      <td>9</td>\n",
              "    </tr>\n",
              "  </tbody>\n",
              "</table>\n",
              "</div>\n",
              "      <button class=\"colab-df-convert\" onclick=\"convertToInteractive('df-7614d5b0-cd55-47e5-b40a-29fbd9530b64')\"\n",
              "              title=\"Convert this dataframe to an interactive table.\"\n",
              "              style=\"display:none;\">\n",
              "        \n",
              "  <svg xmlns=\"http://www.w3.org/2000/svg\" height=\"24px\"viewBox=\"0 0 24 24\"\n",
              "       width=\"24px\">\n",
              "    <path d=\"M0 0h24v24H0V0z\" fill=\"none\"/>\n",
              "    <path d=\"M18.56 5.44l.94 2.06.94-2.06 2.06-.94-2.06-.94-.94-2.06-.94 2.06-2.06.94zm-11 1L8.5 8.5l.94-2.06 2.06-.94-2.06-.94L8.5 2.5l-.94 2.06-2.06.94zm10 10l.94 2.06.94-2.06 2.06-.94-2.06-.94-.94-2.06-.94 2.06-2.06.94z\"/><path d=\"M17.41 7.96l-1.37-1.37c-.4-.4-.92-.59-1.43-.59-.52 0-1.04.2-1.43.59L10.3 9.45l-7.72 7.72c-.78.78-.78 2.05 0 2.83L4 21.41c.39.39.9.59 1.41.59.51 0 1.02-.2 1.41-.59l7.78-7.78 2.81-2.81c.8-.78.8-2.07 0-2.86zM5.41 20L4 18.59l7.72-7.72 1.47 1.35L5.41 20z\"/>\n",
              "  </svg>\n",
              "      </button>\n",
              "      \n",
              "  <style>\n",
              "    .colab-df-container {\n",
              "      display:flex;\n",
              "      flex-wrap:wrap;\n",
              "      gap: 12px;\n",
              "    }\n",
              "\n",
              "    .colab-df-convert {\n",
              "      background-color: #E8F0FE;\n",
              "      border: none;\n",
              "      border-radius: 50%;\n",
              "      cursor: pointer;\n",
              "      display: none;\n",
              "      fill: #1967D2;\n",
              "      height: 32px;\n",
              "      padding: 0 0 0 0;\n",
              "      width: 32px;\n",
              "    }\n",
              "\n",
              "    .colab-df-convert:hover {\n",
              "      background-color: #E2EBFA;\n",
              "      box-shadow: 0px 1px 2px rgba(60, 64, 67, 0.3), 0px 1px 3px 1px rgba(60, 64, 67, 0.15);\n",
              "      fill: #174EA6;\n",
              "    }\n",
              "\n",
              "    [theme=dark] .colab-df-convert {\n",
              "      background-color: #3B4455;\n",
              "      fill: #D2E3FC;\n",
              "    }\n",
              "\n",
              "    [theme=dark] .colab-df-convert:hover {\n",
              "      background-color: #434B5C;\n",
              "      box-shadow: 0px 1px 3px 1px rgba(0, 0, 0, 0.15);\n",
              "      filter: drop-shadow(0px 1px 2px rgba(0, 0, 0, 0.3));\n",
              "      fill: #FFFFFF;\n",
              "    }\n",
              "  </style>\n",
              "\n",
              "      <script>\n",
              "        const buttonEl =\n",
              "          document.querySelector('#df-7614d5b0-cd55-47e5-b40a-29fbd9530b64 button.colab-df-convert');\n",
              "        buttonEl.style.display =\n",
              "          google.colab.kernel.accessAllowed ? 'block' : 'none';\n",
              "\n",
              "        async function convertToInteractive(key) {\n",
              "          const element = document.querySelector('#df-7614d5b0-cd55-47e5-b40a-29fbd9530b64');\n",
              "          const dataTable =\n",
              "            await google.colab.kernel.invokeFunction('convertToInteractive',\n",
              "                                                     [key], {});\n",
              "          if (!dataTable) return;\n",
              "\n",
              "          const docLinkHtml = 'Like what you see? Visit the ' +\n",
              "            '<a target=\"_blank\" href=https://colab.research.google.com/notebooks/data_table.ipynb>data table notebook</a>'\n",
              "            + ' to learn more about interactive tables.';\n",
              "          element.innerHTML = '';\n",
              "          dataTable['output_type'] = 'display_data';\n",
              "          await google.colab.output.renderOutput(dataTable, element);\n",
              "          const docLink = document.createElement('div');\n",
              "          docLink.innerHTML = docLinkHtml;\n",
              "          element.appendChild(docLink);\n",
              "        }\n",
              "      </script>\n",
              "    </div>\n",
              "  </div>\n",
              "  "
            ]
          },
          "metadata": {},
          "execution_count": 13
        }
      ],
      "source": [
        "temp = []\n",
        "for i in range(20):\n",
        "  temp.append(svc_classifier.predict(X_test[i].reshape(1,-1))[0])\n",
        "\n",
        "data = {'y_train': y_test[:20], \n",
        "        'y_prediction': temp}\n",
        "\n",
        "prediction = pd.DataFrame(data)\n",
        "prediction"
      ]
    },
    {
      "cell_type": "code",
      "execution_count": null,
      "metadata": {
        "colab": {
          "base_uri": "https://localhost:8080/"
        },
        "id": "9QhXthFvm_XR",
        "outputId": "cfd83c26-9944-440d-ab06-837291e29cde"
      },
      "outputs": [
        {
          "output_type": "stream",
          "name": "stdout",
          "text": [
            "Confusion Matrix: \n",
            " [[1672    0    9    2    3   22    9    1    8    3]\n",
            " [   1 1988   11    3    2    4    1    5   16    4]\n",
            " [  23   23 1613   34   22    8   16   13   21    4]\n",
            " [   6    6   39 1685    1   47    3   14   37   17]\n",
            " [   4    4   20    1 1653    6    7   14    6   49]\n",
            " [  10    7   13   63   17 1416   29    1   28   12]\n",
            " [  10    5   29    1   20   24 1648    0    5    0]\n",
            " [   3   11   23   15   24    4    0 1766    4   65]\n",
            " [  21   30   43   43    7   51   10    9 1553   22]\n",
            " [   5   10   11   17   78   14    0   58   10 1595]]\n"
          ]
        }
      ],
      "source": [
        "y_pred = svc_classifier.predict(X_test)\n",
        "matrix = confusion_matrix(y_test, y_pred)\n",
        "print('Confusion Matrix: \\n',matrix )"
      ]
    },
    {
      "cell_type": "markdown",
      "metadata": {
        "id": "Gj2QizxHsIYE"
      },
      "source": [
        "##a) (iii) Classwise f1 score "
      ]
    },
    {
      "cell_type": "code",
      "execution_count": null,
      "metadata": {
        "id": "cgB2OSUbki8S"
      },
      "outputs": [],
      "source": [
        "def classwise_f1_score():\n",
        "  classwise_score = []\n",
        "  for i in range(len(matrix)):\n",
        "    preision_sum = 0\n",
        "    recall_sum = 0\n",
        "    for j in range(len(matrix[0])):\n",
        "      preision_sum += matrix[j][i]\n",
        "\n",
        "    for k in range(len(matrix[0])):\n",
        "      recall_sum += matrix[i][k]\n",
        "      \n",
        "    precision_of_class_i = matrix[i][i] / preision_sum\n",
        "    recall_of_class_i = matrix[i][i] / recall_sum\n",
        "\n",
        "    f1_score_of_i = (2*precision_of_class_i*recall_of_class_i) / (precision_of_class_i+recall_of_class_i)\n",
        "    classwise_score.append(f1_score_of_i)\n",
        "\n",
        "  return classwise_score"
      ]
    },
    {
      "cell_type": "code",
      "execution_count": null,
      "metadata": {
        "colab": {
          "base_uri": "https://localhost:8080/",
          "height": 363
        },
        "id": "pk4oJIStoQ91",
        "outputId": "51fc1b30-928e-4cb7-90f1-abdbd6faccad"
      },
      "outputs": [
        {
          "output_type": "execute_result",
          "data": {
            "text/plain": [
              "   class  f1-score\n",
              "0      0  0.959816\n",
              "1      1  0.965283\n",
              "2      2  0.899108\n",
              "3      3  0.906158\n",
              "4      4  0.920635\n",
              "5      5  0.887218\n",
              "6      6  0.951227\n",
              "7      7  0.930453\n",
              "8      8  0.893299\n",
              "9      9  0.893808"
            ],
            "text/html": [
              "\n",
              "  <div id=\"df-aec0ec07-ae63-4669-9db1-1d69bdd4bc89\">\n",
              "    <div class=\"colab-df-container\">\n",
              "      <div>\n",
              "<style scoped>\n",
              "    .dataframe tbody tr th:only-of-type {\n",
              "        vertical-align: middle;\n",
              "    }\n",
              "\n",
              "    .dataframe tbody tr th {\n",
              "        vertical-align: top;\n",
              "    }\n",
              "\n",
              "    .dataframe thead th {\n",
              "        text-align: right;\n",
              "    }\n",
              "</style>\n",
              "<table border=\"1\" class=\"dataframe\">\n",
              "  <thead>\n",
              "    <tr style=\"text-align: right;\">\n",
              "      <th></th>\n",
              "      <th>class</th>\n",
              "      <th>f1-score</th>\n",
              "    </tr>\n",
              "  </thead>\n",
              "  <tbody>\n",
              "    <tr>\n",
              "      <th>0</th>\n",
              "      <td>0</td>\n",
              "      <td>0.959816</td>\n",
              "    </tr>\n",
              "    <tr>\n",
              "      <th>1</th>\n",
              "      <td>1</td>\n",
              "      <td>0.965283</td>\n",
              "    </tr>\n",
              "    <tr>\n",
              "      <th>2</th>\n",
              "      <td>2</td>\n",
              "      <td>0.899108</td>\n",
              "    </tr>\n",
              "    <tr>\n",
              "      <th>3</th>\n",
              "      <td>3</td>\n",
              "      <td>0.906158</td>\n",
              "    </tr>\n",
              "    <tr>\n",
              "      <th>4</th>\n",
              "      <td>4</td>\n",
              "      <td>0.920635</td>\n",
              "    </tr>\n",
              "    <tr>\n",
              "      <th>5</th>\n",
              "      <td>5</td>\n",
              "      <td>0.887218</td>\n",
              "    </tr>\n",
              "    <tr>\n",
              "      <th>6</th>\n",
              "      <td>6</td>\n",
              "      <td>0.951227</td>\n",
              "    </tr>\n",
              "    <tr>\n",
              "      <th>7</th>\n",
              "      <td>7</td>\n",
              "      <td>0.930453</td>\n",
              "    </tr>\n",
              "    <tr>\n",
              "      <th>8</th>\n",
              "      <td>8</td>\n",
              "      <td>0.893299</td>\n",
              "    </tr>\n",
              "    <tr>\n",
              "      <th>9</th>\n",
              "      <td>9</td>\n",
              "      <td>0.893808</td>\n",
              "    </tr>\n",
              "  </tbody>\n",
              "</table>\n",
              "</div>\n",
              "      <button class=\"colab-df-convert\" onclick=\"convertToInteractive('df-aec0ec07-ae63-4669-9db1-1d69bdd4bc89')\"\n",
              "              title=\"Convert this dataframe to an interactive table.\"\n",
              "              style=\"display:none;\">\n",
              "        \n",
              "  <svg xmlns=\"http://www.w3.org/2000/svg\" height=\"24px\"viewBox=\"0 0 24 24\"\n",
              "       width=\"24px\">\n",
              "    <path d=\"M0 0h24v24H0V0z\" fill=\"none\"/>\n",
              "    <path d=\"M18.56 5.44l.94 2.06.94-2.06 2.06-.94-2.06-.94-.94-2.06-.94 2.06-2.06.94zm-11 1L8.5 8.5l.94-2.06 2.06-.94-2.06-.94L8.5 2.5l-.94 2.06-2.06.94zm10 10l.94 2.06.94-2.06 2.06-.94-2.06-.94-.94-2.06-.94 2.06-2.06.94z\"/><path d=\"M17.41 7.96l-1.37-1.37c-.4-.4-.92-.59-1.43-.59-.52 0-1.04.2-1.43.59L10.3 9.45l-7.72 7.72c-.78.78-.78 2.05 0 2.83L4 21.41c.39.39.9.59 1.41.59.51 0 1.02-.2 1.41-.59l7.78-7.78 2.81-2.81c.8-.78.8-2.07 0-2.86zM5.41 20L4 18.59l7.72-7.72 1.47 1.35L5.41 20z\"/>\n",
              "  </svg>\n",
              "      </button>\n",
              "      \n",
              "  <style>\n",
              "    .colab-df-container {\n",
              "      display:flex;\n",
              "      flex-wrap:wrap;\n",
              "      gap: 12px;\n",
              "    }\n",
              "\n",
              "    .colab-df-convert {\n",
              "      background-color: #E8F0FE;\n",
              "      border: none;\n",
              "      border-radius: 50%;\n",
              "      cursor: pointer;\n",
              "      display: none;\n",
              "      fill: #1967D2;\n",
              "      height: 32px;\n",
              "      padding: 0 0 0 0;\n",
              "      width: 32px;\n",
              "    }\n",
              "\n",
              "    .colab-df-convert:hover {\n",
              "      background-color: #E2EBFA;\n",
              "      box-shadow: 0px 1px 2px rgba(60, 64, 67, 0.3), 0px 1px 3px 1px rgba(60, 64, 67, 0.15);\n",
              "      fill: #174EA6;\n",
              "    }\n",
              "\n",
              "    [theme=dark] .colab-df-convert {\n",
              "      background-color: #3B4455;\n",
              "      fill: #D2E3FC;\n",
              "    }\n",
              "\n",
              "    [theme=dark] .colab-df-convert:hover {\n",
              "      background-color: #434B5C;\n",
              "      box-shadow: 0px 1px 3px 1px rgba(0, 0, 0, 0.15);\n",
              "      filter: drop-shadow(0px 1px 2px rgba(0, 0, 0, 0.3));\n",
              "      fill: #FFFFFF;\n",
              "    }\n",
              "  </style>\n",
              "\n",
              "      <script>\n",
              "        const buttonEl =\n",
              "          document.querySelector('#df-aec0ec07-ae63-4669-9db1-1d69bdd4bc89 button.colab-df-convert');\n",
              "        buttonEl.style.display =\n",
              "          google.colab.kernel.accessAllowed ? 'block' : 'none';\n",
              "\n",
              "        async function convertToInteractive(key) {\n",
              "          const element = document.querySelector('#df-aec0ec07-ae63-4669-9db1-1d69bdd4bc89');\n",
              "          const dataTable =\n",
              "            await google.colab.kernel.invokeFunction('convertToInteractive',\n",
              "                                                     [key], {});\n",
              "          if (!dataTable) return;\n",
              "\n",
              "          const docLinkHtml = 'Like what you see? Visit the ' +\n",
              "            '<a target=\"_blank\" href=https://colab.research.google.com/notebooks/data_table.ipynb>data table notebook</a>'\n",
              "            + ' to learn more about interactive tables.';\n",
              "          element.innerHTML = '';\n",
              "          dataTable['output_type'] = 'display_data';\n",
              "          await google.colab.output.renderOutput(dataTable, element);\n",
              "          const docLink = document.createElement('div');\n",
              "          docLink.innerHTML = docLinkHtml;\n",
              "          element.appendChild(docLink);\n",
              "        }\n",
              "      </script>\n",
              "    </div>\n",
              "  </div>\n",
              "  "
            ]
          },
          "metadata": {},
          "execution_count": 16
        }
      ],
      "source": [
        "class_score = {'class': [0, 1, 2, 3, 4, 5, 6, 7, 8, 9], 'f1-score': classwise_f1_score()}\n",
        "scores = pd.DataFrame(class_score)\n",
        "scores"
      ]
    },
    {
      "cell_type": "code",
      "execution_count": null,
      "metadata": {
        "colab": {
          "base_uri": "https://localhost:8080/"
        },
        "id": "VZ54hdbn0MHR",
        "outputId": "8a3cf009-75d0-4cb7-f8fe-3cdd2317cc44"
      },
      "outputs": [
        {
          "output_type": "stream",
          "name": "stdout",
          "text": [
            "              precision    recall  f1-score   support\n",
            "\n",
            "           0       0.95      0.97      0.96      1729\n",
            "           1       0.95      0.98      0.97      2035\n",
            "           2       0.89      0.91      0.90      1777\n",
            "           3       0.90      0.91      0.91      1855\n",
            "           4       0.90      0.94      0.92      1764\n",
            "           5       0.89      0.89      0.89      1596\n",
            "           6       0.96      0.95      0.95      1742\n",
            "           7       0.94      0.92      0.93      1915\n",
            "           8       0.92      0.87      0.89      1789\n",
            "           9       0.90      0.89      0.89      1798\n",
            "\n",
            "    accuracy                           0.92     18000\n",
            "   macro avg       0.92      0.92      0.92     18000\n",
            "weighted avg       0.92      0.92      0.92     18000\n",
            "\n"
          ]
        }
      ],
      "source": [
        "#F1 scores using sklearn inbuilt function and comparing f1 score to our own function.\n",
        "print(classification_report(y_test, y_pred))"
      ]
    },
    {
      "cell_type": "markdown",
      "source": [
        "###Conclusion: The value of F1 scores derived by sklearn inbuilt function and as returned by my function is almost same and the accuracy of my model is 92%."
      ],
      "metadata": {
        "id": "5fKcRLlugVTx"
      }
    },
    {
      "cell_type": "markdown",
      "metadata": {
        "id": "VeRqOVEH1ije"
      },
      "source": [
        "##b) Non Linear SVM"
      ]
    },
    {
      "cell_type": "markdown",
      "metadata": {
        "id": "UjNEKlIEcKgO"
      },
      "source": [
        "###RBF Kernal"
      ]
    },
    {
      "cell_type": "code",
      "execution_count": null,
      "metadata": {
        "colab": {
          "base_uri": "https://localhost:8080/"
        },
        "id": "Zmltnpya1pDS",
        "outputId": "fdb4a5dd-ae7e-4d2c-8a35-230387e676ba"
      },
      "outputs": [
        {
          "output_type": "stream",
          "name": "stdout",
          "text": [
            "Accuracy with RBF kernal: 96.26666666666667\n"
          ]
        }
      ],
      "source": [
        "rbf_classifier = SVC(kernel='rbf')  \n",
        "rbf_classifier.fit(X_train, y_train) \n",
        "y_pred = rbf_classifier.predict(X_test)\n",
        "rbf_accuracy = accuracy_score(y_test, y_pred)*100\n",
        "print('Accuracy with RBF kernal: {}'.format(rbf_accuracy))"
      ]
    },
    {
      "cell_type": "markdown",
      "metadata": {
        "id": "dpxYvPNFdvJk"
      },
      "source": [
        "###Polynomial Kernal"
      ]
    },
    {
      "cell_type": "code",
      "execution_count": null,
      "metadata": {
        "colab": {
          "base_uri": "https://localhost:8080/"
        },
        "id": "_b1k9-0EdFEU",
        "outputId": "927385d2-dcd1-4cd0-cec2-bb508984acd7"
      },
      "outputs": [
        {
          "output_type": "stream",
          "name": "stdout",
          "text": [
            "Accuracy with Polynomial kernal: 95.66111111111111\n"
          ]
        }
      ],
      "source": [
        "poly_classifier = SVC(kernel='poly')  \n",
        "poly_classifier.fit(X_train, y_train) \n",
        "y_pred_poly = poly_classifier.predict(X_test)\n",
        "poly_accuracy = accuracy_score(y_test, y_pred_poly)*100\n",
        "print('Accuracy with Polynomial kernal: {}'.format(poly_accuracy))"
      ]
    },
    {
      "cell_type": "markdown",
      "metadata": {
        "id": "zRJD3eZc5nZs"
      },
      "source": [
        "##c) Perform (grid search) cross-validation to find the optimal values of cost C and gamma for SVM classifier using RBF kernel."
      ]
    },
    {
      "cell_type": "code",
      "execution_count": null,
      "metadata": {
        "colab": {
          "base_uri": "https://localhost:8080/"
        },
        "id": "H9zIelDAzVUi",
        "outputId": "53b849af-a8a8-45e8-8680-c1a13ebc61b4"
      },
      "outputs": [
        {
          "output_type": "stream",
          "name": "stdout",
          "text": [
            "(42000, 1)\n"
          ]
        }
      ],
      "source": [
        "type(X_train)\n",
        "type(y_train)\n",
        "print(y_train.shape)"
      ]
    },
    {
      "cell_type": "code",
      "execution_count": null,
      "metadata": {
        "colab": {
          "base_uri": "https://localhost:8080/"
        },
        "id": "2xHJe4gUxokx",
        "outputId": "eaed863b-0831-4d62-8971-d7adecc9beab"
      },
      "outputs": [
        {
          "output_type": "stream",
          "name": "stdout",
          "text": [
            "After PCA the shape of our X_train : (42000, 113)\n",
            "After PCA the shape of our X_test : (18000, 113)\n"
          ]
        }
      ],
      "source": [
        "#doing dimensionality reduction using PCA as it is taking a lot of computational time in grid search\n",
        "pca = PCA(n_components= 0.75)\n",
        "pca.fit(X_train)\n",
        "\n",
        "X_train_pca = pca.transform(X_train)\n",
        "X_test_pca = pca.transform(X_test)\n",
        "\n",
        "print('After PCA the shape of our X_train : {}'.format(X_train_pca.shape))\n",
        "print('After PCA the shape of our X_test : {}'.format(X_test_pca.shape))"
      ]
    },
    {
      "cell_type": "code",
      "execution_count": null,
      "metadata": {
        "colab": {
          "base_uri": "https://localhost:8080/"
        },
        "id": "-UJKevfqBtCs",
        "outputId": "dc154ed3-aa07-4492-a938-1462a002fa89"
      },
      "outputs": [
        {
          "output_type": "execute_result",
          "data": {
            "text/plain": [
              "numpy.ndarray"
            ]
          },
          "metadata": {},
          "execution_count": 22
        }
      ],
      "source": [
        "type(X_train_pca)"
      ]
    },
    {
      "cell_type": "code",
      "execution_count": null,
      "metadata": {
        "id": "rgpr4Rz7dojh",
        "colab": {
          "base_uri": "https://localhost:8080/"
        },
        "outputId": "10673732-0e0b-4791-eeb9-f8bbce4870ce"
      },
      "outputs": [
        {
          "output_type": "execute_result",
          "data": {
            "text/plain": [
              "GridSearchCV(cv=2, estimator=SVC(),\n",
              "             param_grid={'C': [0.1, 1], 'gamma': [1, 0.01], 'kernel': ['rbf']},\n",
              "             verbose=-1)"
            ]
          },
          "metadata": {},
          "execution_count": 23
        }
      ],
      "source": [
        "param_grid = {'C': [0.1, 1], \n",
        "              'gamma': [1, 0.01],\n",
        "              'kernel': ['rbf'],\n",
        "              } \n",
        "  \n",
        "grid = GridSearchCV(SVC(), param_grid, verbose = -1, cv=2)\n",
        "grid.fit(X_train_pca, y_train)"
      ]
    },
    {
      "cell_type": "code",
      "execution_count": null,
      "metadata": {
        "id": "Q11trosbE5Du",
        "colab": {
          "base_uri": "https://localhost:8080/"
        },
        "outputId": "e164449e-01da-422a-ac86-8558a71c28c8"
      },
      "outputs": [
        {
          "output_type": "stream",
          "name": "stdout",
          "text": [
            "The optimal parameters are:  {'C': 1, 'gamma': 0.01, 'kernel': 'rbf'}\n"
          ]
        }
      ],
      "source": [
        "print(\"The optimal parameters are: \", grid.best_params_)"
      ]
    },
    {
      "cell_type": "markdown",
      "metadata": {
        "id": "CvFz4d7_FOIs"
      },
      "source": [
        "##d) Using the optimal hyperparameters train the model and report accuracy. Display the confusion matrix and report the accuracy of the model."
      ]
    },
    {
      "cell_type": "code",
      "execution_count": null,
      "metadata": {
        "id": "HNg1PuV9FNNR",
        "colab": {
          "base_uri": "https://localhost:8080/"
        },
        "outputId": "af0758c0-2a9f-4620-c081-c62499d2ca69"
      },
      "outputs": [
        {
          "output_type": "stream",
          "name": "stdout",
          "text": [
            "Using optimal hyperparameters, the accuracy is : 93.00555555555555\n"
          ]
        }
      ],
      "source": [
        "from sklearn.metrics import accuracy_score\n",
        "\n",
        "prediction_optimize = grid.predict(X_test_pca)\n",
        "optimal_accuracy=accuracy_score(y_test, prediction_optimize)\n",
        "print('Using optimal hyperparameters, the accuracy is : {}'.format(optimal_accuracy*100))"
      ]
    },
    {
      "cell_type": "code",
      "execution_count": null,
      "metadata": {
        "id": "RLJT93YzE92w",
        "colab": {
          "base_uri": "https://localhost:8080/"
        },
        "outputId": "14eacaac-3f26-4108-c8a5-4fa5c94ad9ab"
      },
      "outputs": [
        {
          "output_type": "stream",
          "name": "stdout",
          "text": [
            "Confusion Matrix: \n",
            " [[1637    0   78    1    2    1    7    0    2    1]\n",
            " [   1 1989   27    3    4    1    1    3    4    2]\n",
            " [   3    1 1749    6    4    0    2    6    4    2]\n",
            " [   0    1  136 1682    0    8    0    9   12    7]\n",
            " [   0    3  122    0 1613    1   10    2    1   12]\n",
            " [   0    0   77   15    1 1489    7    2    3    2]\n",
            " [   3    1  134    0    2    6 1594    0    2    0]\n",
            " [   0    5  164    1    7    0    0 1726    1   11]\n",
            " [   3    6  117   16    7   14    2    6 1617    1]\n",
            " [   2    2  102   10   13    1    0   18    5 1645]]\n"
          ]
        }
      ],
      "source": [
        "optimal_matrix = confusion_matrix(y_test, prediction_optimize)\n",
        "print('Confusion Matrix: \\n',optimal_matrix )"
      ]
    },
    {
      "cell_type": "markdown",
      "metadata": {
        "id": "1YqTIIijdDX1"
      },
      "source": [
        "##e) (i) Develop a new training set by extracting the support vectors from the SVM fitted above for the chosen hyperparameters. \n"
      ]
    },
    {
      "cell_type": "code",
      "execution_count": null,
      "metadata": {
        "id": "qw0urkjLCaus",
        "colab": {
          "base_uri": "https://localhost:8080/"
        },
        "outputId": "e24421c6-beea-49fa-b0ee-d195fa65d09d"
      },
      "outputs": [
        {
          "output_type": "stream",
          "name": "stdout",
          "text": [
            "\n",
            "The shape of new dataset that is derived by extracting support vectors from SVM: (19334, 113)\n"
          ]
        }
      ],
      "source": [
        "# get support vectors\n",
        "SV_x = grid.best_estimator_.support_vectors_                #returns numpy array\n",
        "print('\\nThe shape of new dataset that is derived by extracting support vectors from SVM: {}'.format(SV_x.shape))"
      ]
    },
    {
      "cell_type": "code",
      "execution_count": null,
      "metadata": {
        "id": "IjE1vaJnCiR6",
        "colab": {
          "base_uri": "https://localhost:8080/"
        },
        "outputId": "3072d9d3-9ec6-46e4-8c66-5f6c65f78c41"
      },
      "outputs": [
        {
          "output_type": "stream",
          "name": "stdout",
          "text": [
            "The shape of new dataset that is derived by extracting support vectors from SVM: (19334, 1)\n"
          ]
        }
      ],
      "source": [
        "# get indices of support vectors so we need to extract labels from y_train with those indexes.\n",
        "\n",
        "indexes = grid.best_estimator_.support_              #returns numpy array\n",
        "indexes = list(indexes)                              #converting to list\n",
        "\n",
        "y_train = pd.DataFrame(y_train)\n",
        "SV_y=y_train[y_train.index.isin(indexes)]           #converting to dataframe as isin() is applied on dataframe only\n",
        "SV_y= SV_y.to_numpy()                               #converting again to numpy as rest all are in numpy.\n",
        "\n",
        "print('The shape of new dataset that is derived by extracting support vectors from SVM: {}'.format(SV_y.shape))"
      ]
    },
    {
      "cell_type": "markdown",
      "metadata": {
        "id": "Ge6yZXXDdP46"
      },
      "source": [
        "##(ii) Now fit another SVM with the new training set and report the accuracies(train, test).\n"
      ]
    },
    {
      "cell_type": "markdown",
      "source": [
        "####Deriving new training and test dataset using the Support Vectors found earlier and after that we will report our accuracies."
      ],
      "metadata": {
        "id": "ML_ZOUQqidb8"
      }
    },
    {
      "cell_type": "code",
      "execution_count": null,
      "metadata": {
        "id": "I1p_VZCCJ_Zj"
      },
      "outputs": [],
      "source": [
        "X_train_new, X_test_new, y_train_new, y_test_new = train_test_split(SV_x, SV_y, test_size=0.3, random_state=30)"
      ]
    },
    {
      "cell_type": "code",
      "execution_count": null,
      "metadata": {
        "id": "i2LbE8g3Qxpz",
        "colab": {
          "base_uri": "https://localhost:8080/"
        },
        "outputId": "a3d892a5-0ced-4774-f67b-7d8e2ce14b1e"
      },
      "outputs": [
        {
          "output_type": "stream",
          "name": "stdout",
          "text": [
            "(13533, 113)\n",
            "(5801, 113)\n",
            "(13533, 1)\n",
            "(5801, 1)\n"
          ]
        }
      ],
      "source": [
        "print(X_train_new.shape)\n",
        "print(X_test_new.shape)\n",
        "print(y_train_new.shape)\n",
        "print(y_test_new.shape)"
      ]
    },
    {
      "cell_type": "code",
      "execution_count": null,
      "metadata": {
        "id": "oZs2gna7fQKI",
        "colab": {
          "base_uri": "https://localhost:8080/"
        },
        "outputId": "59f6bb55-9dc4-41da-d286-6491aaf09a8d"
      },
      "outputs": [
        {
          "output_type": "execute_result",
          "data": {
            "text/plain": [
              "SVC(C=1, gamma=0.01)"
            ]
          },
          "metadata": {},
          "execution_count": 43
        }
      ],
      "source": [
        "classifier_new = SVC(kernel='rbf', C=1, gamma=0.01)               # building SVC object with optimal hyperparameters\n",
        "classifier_new.fit(X_train_new, y_train_new)"
      ]
    },
    {
      "cell_type": "code",
      "execution_count": null,
      "metadata": {
        "id": "JdQA1udiL-T3",
        "colab": {
          "base_uri": "https://localhost:8080/"
        },
        "outputId": "5b81ba2b-a5d1-44a0-ae3e-d2f85f071f8c"
      },
      "outputs": [
        {
          "output_type": "stream",
          "name": "stdout",
          "text": [
            "13.842440958455438\n"
          ]
        }
      ],
      "source": [
        "pred_test_new = classifier_new.predict(X_test_new)\n",
        "acc_score_test = accuracy_score(y_test_new,pred_test_new)\n",
        "print(acc_score_test*100)"
      ]
    },
    {
      "cell_type": "code",
      "execution_count": null,
      "metadata": {
        "id": "X0nHi4X_kcHT",
        "colab": {
          "base_uri": "https://localhost:8080/"
        },
        "outputId": "5446f4c9-6581-410c-be1b-ecb2d822f795"
      },
      "outputs": [
        {
          "output_type": "stream",
          "name": "stdout",
          "text": [
            "91.21406931205203\n"
          ]
        }
      ],
      "source": [
        "pred_train_new = classifier_new.predict(X_train_new)\n",
        "acc_score_train = accuracy_score(y_train_new,pred_train_new)\n",
        "print(acc_score_train*100)"
      ]
    },
    {
      "cell_type": "code",
      "execution_count": null,
      "metadata": {
        "id": "io2RzF9kMxAX",
        "colab": {
          "base_uri": "https://localhost:8080/",
          "height": 112
        },
        "outputId": "ef51685d-00b7-456e-c49f-45530997994a"
      },
      "outputs": [
        {
          "output_type": "execute_result",
          "data": {
            "text/plain": [
              "         Dataset   Accuracy\n",
              "1)  Training Set  91.214069\n",
              "2)      Test Set  13.842441"
            ],
            "text/html": [
              "\n",
              "  <div id=\"df-f8d0b004-6152-4217-9133-72c79bed8ec4\">\n",
              "    <div class=\"colab-df-container\">\n",
              "      <div>\n",
              "<style scoped>\n",
              "    .dataframe tbody tr th:only-of-type {\n",
              "        vertical-align: middle;\n",
              "    }\n",
              "\n",
              "    .dataframe tbody tr th {\n",
              "        vertical-align: top;\n",
              "    }\n",
              "\n",
              "    .dataframe thead th {\n",
              "        text-align: right;\n",
              "    }\n",
              "</style>\n",
              "<table border=\"1\" class=\"dataframe\">\n",
              "  <thead>\n",
              "    <tr style=\"text-align: right;\">\n",
              "      <th></th>\n",
              "      <th>Dataset</th>\n",
              "      <th>Accuracy</th>\n",
              "    </tr>\n",
              "  </thead>\n",
              "  <tbody>\n",
              "    <tr>\n",
              "      <th>1)</th>\n",
              "      <td>Training Set</td>\n",
              "      <td>91.214069</td>\n",
              "    </tr>\n",
              "    <tr>\n",
              "      <th>2)</th>\n",
              "      <td>Test Set</td>\n",
              "      <td>13.842441</td>\n",
              "    </tr>\n",
              "  </tbody>\n",
              "</table>\n",
              "</div>\n",
              "      <button class=\"colab-df-convert\" onclick=\"convertToInteractive('df-f8d0b004-6152-4217-9133-72c79bed8ec4')\"\n",
              "              title=\"Convert this dataframe to an interactive table.\"\n",
              "              style=\"display:none;\">\n",
              "        \n",
              "  <svg xmlns=\"http://www.w3.org/2000/svg\" height=\"24px\"viewBox=\"0 0 24 24\"\n",
              "       width=\"24px\">\n",
              "    <path d=\"M0 0h24v24H0V0z\" fill=\"none\"/>\n",
              "    <path d=\"M18.56 5.44l.94 2.06.94-2.06 2.06-.94-2.06-.94-.94-2.06-.94 2.06-2.06.94zm-11 1L8.5 8.5l.94-2.06 2.06-.94-2.06-.94L8.5 2.5l-.94 2.06-2.06.94zm10 10l.94 2.06.94-2.06 2.06-.94-2.06-.94-.94-2.06-.94 2.06-2.06.94z\"/><path d=\"M17.41 7.96l-1.37-1.37c-.4-.4-.92-.59-1.43-.59-.52 0-1.04.2-1.43.59L10.3 9.45l-7.72 7.72c-.78.78-.78 2.05 0 2.83L4 21.41c.39.39.9.59 1.41.59.51 0 1.02-.2 1.41-.59l7.78-7.78 2.81-2.81c.8-.78.8-2.07 0-2.86zM5.41 20L4 18.59l7.72-7.72 1.47 1.35L5.41 20z\"/>\n",
              "  </svg>\n",
              "      </button>\n",
              "      \n",
              "  <style>\n",
              "    .colab-df-container {\n",
              "      display:flex;\n",
              "      flex-wrap:wrap;\n",
              "      gap: 12px;\n",
              "    }\n",
              "\n",
              "    .colab-df-convert {\n",
              "      background-color: #E8F0FE;\n",
              "      border: none;\n",
              "      border-radius: 50%;\n",
              "      cursor: pointer;\n",
              "      display: none;\n",
              "      fill: #1967D2;\n",
              "      height: 32px;\n",
              "      padding: 0 0 0 0;\n",
              "      width: 32px;\n",
              "    }\n",
              "\n",
              "    .colab-df-convert:hover {\n",
              "      background-color: #E2EBFA;\n",
              "      box-shadow: 0px 1px 2px rgba(60, 64, 67, 0.3), 0px 1px 3px 1px rgba(60, 64, 67, 0.15);\n",
              "      fill: #174EA6;\n",
              "    }\n",
              "\n",
              "    [theme=dark] .colab-df-convert {\n",
              "      background-color: #3B4455;\n",
              "      fill: #D2E3FC;\n",
              "    }\n",
              "\n",
              "    [theme=dark] .colab-df-convert:hover {\n",
              "      background-color: #434B5C;\n",
              "      box-shadow: 0px 1px 3px 1px rgba(0, 0, 0, 0.15);\n",
              "      filter: drop-shadow(0px 1px 2px rgba(0, 0, 0, 0.3));\n",
              "      fill: #FFFFFF;\n",
              "    }\n",
              "  </style>\n",
              "\n",
              "      <script>\n",
              "        const buttonEl =\n",
              "          document.querySelector('#df-f8d0b004-6152-4217-9133-72c79bed8ec4 button.colab-df-convert');\n",
              "        buttonEl.style.display =\n",
              "          google.colab.kernel.accessAllowed ? 'block' : 'none';\n",
              "\n",
              "        async function convertToInteractive(key) {\n",
              "          const element = document.querySelector('#df-f8d0b004-6152-4217-9133-72c79bed8ec4');\n",
              "          const dataTable =\n",
              "            await google.colab.kernel.invokeFunction('convertToInteractive',\n",
              "                                                     [key], {});\n",
              "          if (!dataTable) return;\n",
              "\n",
              "          const docLinkHtml = 'Like what you see? Visit the ' +\n",
              "            '<a target=\"_blank\" href=https://colab.research.google.com/notebooks/data_table.ipynb>data table notebook</a>'\n",
              "            + ' to learn more about interactive tables.';\n",
              "          element.innerHTML = '';\n",
              "          dataTable['output_type'] = 'display_data';\n",
              "          await google.colab.output.renderOutput(dataTable, element);\n",
              "          const docLink = document.createElement('div');\n",
              "          docLink.innerHTML = docLinkHtml;\n",
              "          element.appendChild(docLink);\n",
              "        }\n",
              "      </script>\n",
              "    </div>\n",
              "  </div>\n",
              "  "
            ]
          },
          "metadata": {},
          "execution_count": 46
        }
      ],
      "source": [
        "# initialize data of lists.\n",
        "data = {'Dataset': ['Training Set', 'Test Set'],\n",
        "        'Accuracy': [acc_score_train*100, acc_score_test*100]}\n",
        "  \n",
        "table = pd.DataFrame(data, index=['1)', '2)'])\n",
        "table"
      ]
    },
    {
      "cell_type": "markdown",
      "metadata": {
        "id": "rl_Sk7GhdUnP"
      },
      "source": [
        "##(iii) Compare the accuracies with the previous models. State your observations."
      ]
    },
    {
      "cell_type": "markdown",
      "source": [
        "1) Accuracy of Linear SVM Classifier:  92%\n",
        "\n",
        "2) Accuracy with Non Linear SVM Classifier (RBF kernal): 96.26%\n",
        "\n",
        "3) Accuracy with Non Linear SVM Classifier (Polynomial kernal): 95.66%\n",
        "\n",
        "4) Accuracy Using optimal hyperparameters (RBF kernal): 93.00%\n",
        "\n"
      ],
      "metadata": {
        "id": "kQ9V5xoli7F1"
      }
    },
    {
      "cell_type": "markdown",
      "source": [
        "The reason behind the decreament of accuracy after using the optimal hyperparameters is because of the use of PCA which reduces the dimension of the dataset. I applied PCA because it was not running for the entire dataset.\n",
        "\n",
        "\n",
        "\n"
      ],
      "metadata": {
        "id": "AgYm3-uettsE"
      }
    }
  ],
  "metadata": {
    "colab": {
      "collapsed_sections": [],
      "provenance": []
    },
    "kernelspec": {
      "display_name": "Python 3",
      "name": "python3"
    },
    "language_info": {
      "name": "python"
    }
  },
  "nbformat": 4,
  "nbformat_minor": 0
}