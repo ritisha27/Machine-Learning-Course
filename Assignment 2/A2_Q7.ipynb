{
  "nbformat": 4,
  "nbformat_minor": 0,
  "metadata": {
    "colab": {
      "provenance": []
    },
    "kernelspec": {
      "name": "python3",
      "display_name": "Python 3"
    },
    "language_info": {
      "name": "python"
    }
  },
  "cells": [
    {
      "cell_type": "code",
      "execution_count": 9,
      "metadata": {
        "id": "prcbrckaiLfi"
      },
      "outputs": [],
      "source": [
        "from sklearn.metrics import fbeta_score\n",
        "from sklearn.metrics import precision_score\n",
        "from sklearn.metrics import recall_score\n"
      ]
    },
    {
      "cell_type": "code",
      "source": [
        "y_actual = [1, 1, 1, 1, 1, 0, 0, 0, 0, 0]\n",
        "y_pred = [1, 1, 1, 1, 1, 1, 1, 1, 1, 1]"
      ],
      "metadata": {
        "id": "O5YJCq0niepC"
      },
      "execution_count": 5,
      "outputs": []
    },
    {
      "cell_type": "code",
      "source": [
        "p = precision_score(y_actual, y_pred)\n",
        "r = recall_score(y_actual, y_pred)\n",
        "f0 = fbeta_score(y_actual, y_pred, beta = 0.5)\n",
        "f1 = fbeta_score(y_actual, y_pred, beta = 1.0)\n",
        "f5 = fbeta_score(y_actual, y_pred, beta = 5.0)\n",
        "print('Precison    : ',p)\n",
        "print('Recall      : ',r)\n",
        "print('F-0.5 score : ',f0)\n",
        "print('F-1 score   : ',f0)\n",
        "print('F-5 score   : ',f0)\n"
      ],
      "metadata": {
        "colab": {
          "base_uri": "https://localhost:8080/"
        },
        "id": "Or7xpoM5il31",
        "outputId": "88398ed3-cb12-4494-a51e-c96ba8d1fe8e"
      },
      "execution_count": 8,
      "outputs": [
        {
          "output_type": "stream",
          "name": "stdout",
          "text": [
            "Precison    :  0.5\n",
            "Recall      :  1.0\n",
            "F-0.5 score :  0.5555555555555556\n",
            "F-1 score   :  0.5555555555555556\n",
            "F-5 score   :  0.5555555555555556\n"
          ]
        }
      ]
    },
    {
      "cell_type": "code",
      "source": [],
      "metadata": {
        "id": "qAlSZ7UUkmVq"
      },
      "execution_count": 6,
      "outputs": []
    }
  ]
}