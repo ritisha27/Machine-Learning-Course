{
  "cells": [
    {
      "cell_type": "code",
      "execution_count": 1,
      "metadata": {
        "colab": {
          "base_uri": "https://localhost:8080/"
        },
        "id": "g7QKV5RSE_Fz",
        "outputId": "eeaf5ccc-bc1f-413a-9a13-896b3db19c20"
      },
      "outputs": [
        {
          "name": "stdout",
          "output_type": "stream",
          "text": [
            "Looking in indexes: https://pypi.org/simple, https://us-python.pkg.dev/colab-wheels/public/simple/\n",
            "Collecting idx2numpy\n",
            "  Downloading idx2numpy-1.2.3.tar.gz (6.8 kB)\n",
            "Requirement already satisfied: numpy in /usr/local/lib/python3.7/dist-packages (from idx2numpy) (1.21.6)\n",
            "Requirement already satisfied: six in /usr/local/lib/python3.7/dist-packages (from idx2numpy) (1.15.0)\n",
            "Building wheels for collected packages: idx2numpy\n",
            "  Building wheel for idx2numpy (setup.py) ... \u001b[?25l\u001b[?25hdone\n",
            "  Created wheel for idx2numpy: filename=idx2numpy-1.2.3-py3-none-any.whl size=7917 sha256=9e89bc650187cb102c2d0566e2bf4776db7c85aa468516298ac8fbf66d1889d7\n",
            "  Stored in directory: /root/.cache/pip/wheels/1a/ce/ad/d5e95a35cfe34149aade5e500f2edd535c0566d79e9a8e1d8a\n",
            "Successfully built idx2numpy\n",
            "Installing collected packages: idx2numpy\n",
            "Successfully installed idx2numpy-1.2.3\n"
          ]
        }
      ],
      "source": [
        "!pip install idx2numpy"
      ]
    },
    {
      "cell_type": "code",
      "execution_count": 2,
      "metadata": {
        "id": "ZUp2RWwivGKz"
      },
      "outputs": [],
      "source": [
        "#importing all the necessary libraries.\n",
        "import numpy as np\n",
        "import pandas as pd\n",
        "import matplotlib.pyplot as plt\n",
        "import seaborn as sns\n",
        "from sklearn import preprocessing\n",
        "from sklearn.cluster import AgglomerativeClustering, DBSCAN\n",
        "from sklearn.metrics import silhouette_score\n",
        "import idx2numpy"
      ]
    },
    {
      "cell_type": "code",
      "execution_count": 3,
      "metadata": {
        "colab": {
          "base_uri": "https://localhost:8080/"
        },
        "id": "8dBXfyNomjoP",
        "outputId": "ff28c563-e759-41a6-fc56-22334baf52e1"
      },
      "outputs": [
        {
          "name": "stdout",
          "output_type": "stream",
          "text": [
            "Mounted at /content/drive\n"
          ]
        }
      ],
      "source": [
        "from google.colab import drive\n",
        "drive.mount('/content/drive')"
      ]
    },
    {
      "cell_type": "code",
      "execution_count": 4,
      "metadata": {
        "id": "70tHADNwMFdP"
      },
      "outputs": [],
      "source": [
        "#It is a python package which provides tools to convert files to and from IDX format into numpy.ndarray.\n",
        "\n",
        "x_train = idx2numpy.convert_from_file('/content/drive/MyDrive/A2_Q5/train-images-idx3-ubyte')\n",
        "y_train = idx2numpy.convert_from_file('/content/drive/MyDrive/A2_Q5/train-labels-idx1-ubyte')\n",
        "x_test = idx2numpy.convert_from_file('/content/drive/MyDrive/A2_Q5/t10k-images-idx3-ubyte')\n",
        "y_test = idx2numpy.convert_from_file('/content/drive/MyDrive/A2_Q5/t10k-labels-idx1-ubyte')"
      ]
    },
    {
      "cell_type": "code",
      "execution_count": 5,
      "metadata": {
        "colab": {
          "base_uri": "https://localhost:8080/"
        },
        "id": "IaqY2Y2GFHwU",
        "outputId": "cf0e87b2-0bbb-4f2a-8e87-05d350ac64ce"
      },
      "outputs": [
        {
          "name": "stdout",
          "output_type": "stream",
          "text": [
            "Training Dataset Size: \n",
            "(60000, 28, 28)\n",
            "(60000,)\n",
            "\n",
            "Test Dataset Size: \n",
            "(10000, 28, 28)\n",
            "(10000,)\n"
          ]
        }
      ],
      "source": [
        "print(\"Training Dataset Size: \")\n",
        "print(x_train.shape)\n",
        "print(y_train.shape)\n",
        "print(\"\\nTest Dataset Size: \")\n",
        "print(x_test.shape)\n",
        "print(y_test.shape)"
      ]
    },
    {
      "cell_type": "code",
      "execution_count": 6,
      "metadata": {
        "id": "EE9aaf-XJpEx"
      },
      "outputs": [],
      "source": [
        "# reshaping the numpy array to 2 dimesional array using .reshape function.\n",
        "x_train = x_train.reshape((-1,784))\n",
        "x_test = x_test.reshape((-1,784))"
      ]
    },
    {
      "cell_type": "code",
      "execution_count": 7,
      "metadata": {
        "colab": {
          "base_uri": "https://localhost:8080/"
        },
        "id": "XhvhiAk3aVpR",
        "outputId": "7c1dbb81-3d92-49c2-e8a7-b768d2eea981"
      },
      "outputs": [
        {
          "name": "stdout",
          "output_type": "stream",
          "text": [
            "Training Dataset Size: \n",
            "(60000, 784)\n",
            "(60000,)\n",
            "\n",
            "Test Dataset Size: \n",
            "(10000, 784)\n",
            "(10000,)\n"
          ]
        }
      ],
      "source": [
        "print(\"Training Dataset Size: \")\n",
        "print(x_train.shape)\n",
        "print(y_train.shape)\n",
        "print(\"\\nTest Dataset Size: \")\n",
        "print(x_test.shape)\n",
        "print(y_test.shape)"
      ]
    },
    {
      "cell_type": "code",
      "execution_count": 8,
      "metadata": {
        "id": "cBa98QE4J2eQ"
      },
      "outputs": [],
      "source": [
        "# creating subsample of 20k data from the whole dataset because collab is not able to accomodate memory for the entire dataset altogether.\n",
        "x_train = pd.DataFrame(x_train[:16000])\n",
        "x_test = pd.DataFrame(x_test[:4000])\n",
        "y_train = pd.DataFrame(y_train[:16000])     #16000,4000 = 20k\n",
        "y_test = pd.DataFrame(y_test[:4000])"
      ]
    },
    {
      "cell_type": "code",
      "execution_count": 9,
      "metadata": {
        "id": "byhe-Hr7Kcys"
      },
      "outputs": [],
      "source": [
        "#the data is already splitted into train and test.\n",
        "#We will extrat validation datset bt again aplitting x_train into X_train and x_val so that the whole ratio of train:val:test = 70:10:20.\n",
        "\n",
        "from sklearn.model_selection import train_test_split\n",
        "x_train, x_val, y_train, y_val = train_test_split(x_train, y_train, test_size=0.125)      #1/8 of data"
      ]
    },
    {
      "cell_type": "code",
      "execution_count": 96,
      "metadata": {
        "colab": {
          "base_uri": "https://localhost:8080/"
        },
        "id": "05jkoac0Kcu8",
        "outputId": "cf884568-d143-486b-f33f-add717223b99"
      },
      "outputs": [
        {
          "name": "stdout",
          "output_type": "stream",
          "text": [
            "Training Dataset Size: \n",
            "(14000, 784)\n",
            "(14000, 1)\n",
            "\n",
            "Test Dataset Size: \n",
            "(4000, 784)\n",
            "(4000, 1)\n",
            "\n",
            "Validation Dataset Size: \n",
            "(2000, 784)\n",
            "(2000, 1)\n"
          ]
        }
      ],
      "source": [
        "print(\"Training Dataset Size: \")\n",
        "print(x_train.shape)\n",
        "print(y_train.shape)\n",
        "print(\"\\nTest Dataset Size: \")\n",
        "print(x_test.shape)\n",
        "print(y_test.shape)\n",
        "print(\"\\nValidation Dataset Size: \")\n",
        "print(x_val.shape)\n",
        "print(y_val.shape)"
      ]
    },
    {
      "cell_type": "code",
      "execution_count": 123,
      "metadata": {
        "colab": {
          "base_uri": "https://localhost:8080/",
          "height": 265
        },
        "id": "2_RHCdm4JjVV",
        "outputId": "108112d4-ab77-473a-d50c-c3fab07006ff"
      },
      "outputs": [
        {
          "data": {
            "image/png": "[encoded data removed]",
            "text/plain": [
              "<Figure size 432x288 with 1 Axes>"
            ]
          },
          "metadata": {
            "needs_background": "light"
          },
          "output_type": "display_data"
        }
      ],
      "source": [
        "plt.imshow(x_train.iloc[28,:].values.reshape((28,28)))\n",
        "plt.show()"
      ]
    },
    {
      "cell_type": "markdown",
      "metadata": {
        "id": "TdP8k8RbJJwR"
      },
      "source": [
        "#Dendrogram"
      ]
    },
    {
      "cell_type": "markdown",
      "metadata": {
        "id": "fovWhx82WMLQ"
      },
      "source": [
        "######A **dendrogram** is a diagram that shows the hierarchical relationship between objects. It is most commonly created as an output from hierarchical clustering. The main use of a dendrogram is to work out the best way to allocate objects to clusters.\n",
        "###### The key to interpreting a dendrogram is to focus on the height at which any two objects are joined together. The height of the dendrogram indicates the order in which the clusters were joined. A more informative dendrogram can be created where the heights reflect the distance between the clusters "
      ]
    },
    {
      "cell_type": "code",
      "execution_count": 112,
      "metadata": {
        "colab": {
          "base_uri": "https://localhost:8080/",
          "height": 588
        },
        "id": "tj8qtbcHDTDl",
        "outputId": "aa6d3b62-8ab1-4d4a-8a40-d88d3ec51b15"
      },
      "outputs": [
        {
          "data": {
            "image/png": "[encoded data removed]",
            "text/plain": [
              "<Figure size 720x720 with 1 Axes>"
            ]
          },
          "metadata": {
            "needs_background": "light"
          },
          "output_type": "display_data"
        }
      ],
      "source": [
        "import scipy.cluster.hierarchy as sch\n",
        "\n",
        "plt.figure(figsize = (10,10))\n",
        "x_sample=pd.DataFrame(x_train).sample(n=100)\n",
        "dendogram = sch.dendrogram (sch.linkage (x_sample, method='ward'))"
      ]
    },
    {
      "cell_type": "markdown",
      "metadata": {
        "id": "F8LzCvN5X4qi"
      },
      "source": [
        "#####Normalization is a scaling technique in which values are shifted and rescaled so that they end up ranging between 0 and 1. It is also known as Min-Max scaling. Normalization gives equal weights/importance to each variable so that no single variable steers model performance in one direction just because they are bigger numbers."
      ]
    },
    {
      "cell_type": "code",
      "execution_count": 12,
      "metadata": {
        "id": "gRi8zeL0VKvA"
      },
      "outputs": [],
      "source": [
        "#Normalising all the data\n",
        "norm_x_train = preprocessing.normalize(x_train)\n",
        "x_train_new = pd.DataFrame(norm_x_train, columns=x_train.columns)\n",
        "\n",
        "norm_x_test = preprocessing.normalize(x_test)\n",
        "x_test_new = pd.DataFrame(norm_x_test, columns=x_test.columns)\n",
        "\n",
        "norm_x_val = preprocessing.normalize(x_val)\n",
        "x_val_new = pd.DataFrame(norm_x_val, columns=x_val.columns)"
      ]
    },
    {
      "cell_type": "markdown",
      "metadata": {
        "id": "x9HeBLrGENXV"
      },
      "source": [
        "#Heirechical Based CLustering"
      ]
    },
    {
      "cell_type": "markdown",
      "metadata": {
        "id": "wqLzvj1_YRlu"
      },
      "source": [
        "Hierarchical clustering is an unsupervised machine learning algorithm, which is used to group the unlabeled datasets into a cluster and also known as hierarchical cluster analysis or HCA. In this algorithm, we develop the hierarchy of clusters in the form of a tree, and this tree-shaped structure is known as the dendrogram."
      ]
    },
    {
      "cell_type": "markdown",
      "metadata": {
        "id": "6gpyqW5jYpZQ"
      },
      "source": [
        "**AgglomerativeClustering**: The agglomerative hierarchical clustering algorithm is a popular example of HCA. To group the datasets into clusters, it follows the bottom-up approach. It means, this algorithm considers each dataset as a single cluster at the beginning, and then start combining the closest pair of clusters together. It does this until all the clusters are merged into a single cluster that contains all the datasets.\n",
        "\n",
        "This hierarchy of clusters is represented in the form of the dendrogram."
      ]
    },
    {
      "cell_type": "code",
      "execution_count": 13,
      "metadata": {
        "colab": {
          "base_uri": "https://localhost:8080/"
        },
        "id": "bZf80azmskpf",
        "outputId": "f9b415f0-846d-4624-ffc6-bcdb3761f6bc"
      },
      "outputs": [
        {
          "data": {
            "text/plain": [
              "AgglomerativeClustering()"
            ]
          },
          "execution_count": 13,
          "metadata": {},
          "output_type": "execute_result"
        }
      ],
      "source": [
        "#Creatind an object of AgglomerativeClustering and fitting our normalized training data.\n",
        "\n",
        "hc = AgglomerativeClustering(n_clusters=2, affinity='euclidean', linkage='ward')\n",
        "hc.fit(norm_x_train)"
      ]
    },
    {
      "cell_type": "code",
      "execution_count": 14,
      "metadata": {
        "colab": {
          "base_uri": "https://localhost:8080/"
        },
        "id": "Y8uXRvfZsoy3",
        "outputId": "4b7bd5a5-1f6a-4ac6-b200-a2b36c5fa9b6"
      },
      "outputs": [
        {
          "name": "stdout",
          "output_type": "stream",
          "text": [
            "Labels:  [0 1 1 ... 1 0 0]\n"
          ]
        }
      ],
      "source": [
        "labels = hc.labels_\n",
        "print(\"Labels: \", labels)"
      ]
    },
    {
      "cell_type": "code",
      "execution_count": 15,
      "metadata": {
        "id": "973z3pB8t14_"
      },
      "outputs": [],
      "source": [
        "test_pred = hc.fit_predict(norm_x_test)\n",
        "train_pred = hc.fit_predict(norm_x_train)\n",
        "val_pred = hc.fit_predict(norm_x_val)"
      ]
    },
    {
      "cell_type": "markdown",
      "metadata": {
        "id": "nzYNRrifZzcW"
      },
      "source": [
        "Silhouette Coefficient or silhouette score is a metric used to calculate the goodness of a clustering technique. Its value ranges from -1 to 1.\n",
        "\n",
        "1: Means clusters are well apart from each other and clearly distinguished.\n",
        "\n",
        "0: Means clusters are indifferent, or we can say that the distance between clusters is not significant.\n",
        "\n",
        "-1: Means clusters are assigned in the wrong way."
      ]
    },
    {
      "cell_type": "code",
      "execution_count": 16,
      "metadata": {
        "id": "RcPAyBP9Qk3E"
      },
      "outputs": [],
      "source": [
        "test_score = silhouette_score(y_test, test_pred)*100\n",
        "train_score = silhouette_score(y_train, train_pred)*100\n",
        "val_score = silhouette_score(y_val, val_pred)*100"
      ]
    },
    {
      "cell_type": "code",
      "execution_count": 17,
      "metadata": {
        "colab": {
          "base_uri": "https://localhost:8080/",
          "height": 143
        },
        "id": "YbU4PiIiWXyt",
        "outputId": "1c0c52d1-5b85-47fb-b164-b17f7489f5b5"
      },
      "outputs": [
        {
          "data": {
            "text/html": [
              "\n",
              "  <div id=\"df-0130d429-4a20-4f18-a460-4613b6ed521c\">\n",
              "    <div class=\"colab-df-container\">\n",
              "      <div>\n",
              "<style scoped>\n",
              "    .dataframe tbody tr th:only-of-type {\n",
              "        vertical-align: middle;\n",
              "    }\n",
              "\n",
              "    .dataframe tbody tr th {\n",
              "        vertical-align: top;\n",
              "    }\n",
              "\n",
              "    .dataframe thead th {\n",
              "        text-align: right;\n",
              "    }\n",
              "</style>\n",
              "<table border=\"1\" class=\"dataframe\">\n",
              "  <thead>\n",
              "    <tr style=\"text-align: right;\">\n",
              "      <th></th>\n",
              "      <th>Dataset Partition</th>\n",
              "      <th>Average Score</th>\n",
              "    </tr>\n",
              "  </thead>\n",
              "  <tbody>\n",
              "    <tr>\n",
              "      <th>0</th>\n",
              "      <td>Test Score</td>\n",
              "      <td>35.066626</td>\n",
              "    </tr>\n",
              "    <tr>\n",
              "      <th>1</th>\n",
              "      <td>Train Score</td>\n",
              "      <td>46.470799</td>\n",
              "    </tr>\n",
              "    <tr>\n",
              "      <th>2</th>\n",
              "      <td>Validation Score</td>\n",
              "      <td>35.278303</td>\n",
              "    </tr>\n",
              "  </tbody>\n",
              "</table>\n",
              "</div>\n",
              "      <button class=\"colab-df-convert\" onclick=\"convertToInteractive('df-0130d429-4a20-4f18-a460-4613b6ed521c')\"\n",
              "              title=\"Convert this dataframe to an interactive table.\"\n",
              "              style=\"display:none;\">\n",
              "        \n",
              "  <svg xmlns=\"http://www.w3.org/2000/svg\" height=\"24px\"viewBox=\"0 0 24 24\"\n",
              "       width=\"24px\">\n",
              "    <path d=\"M0 0h24v24H0V0z\" fill=\"none\"/>\n",
              "    <path d=\"M18.56 5.44l.94 2.06.94-2.06 2.06-.94-2.06-.94-.94-2.06-.94 2.06-2.06.94zm-11 1L8.5 8.5l.94-2.06 2.06-.94-2.06-.94L8.5 2.5l-.94 2.06-2.06.94zm10 10l.94 2.06.94-2.06 2.06-.94-2.06-.94-.94-2.06-.94 2.06-2.06.94z\"/><path d=\"M17.41 7.96l-1.37-1.37c-.4-.4-.92-.59-1.43-.59-.52 0-1.04.2-1.43.59L10.3 9.45l-7.72 7.72c-.78.78-.78 2.05 0 2.83L4 21.41c.39.39.9.59 1.41.59.51 0 1.02-.2 1.41-.59l7.78-7.78 2.81-2.81c.8-.78.8-2.07 0-2.86zM5.41 20L4 18.59l7.72-7.72 1.47 1.35L5.41 20z\"/>\n",
              "  </svg>\n",
              "      </button>\n",
              "      \n",
              "  <style>\n",
              "    .colab-df-container {\n",
              "      display:flex;\n",
              "      flex-wrap:wrap;\n",
              "      gap: 12px;\n",
              "    }\n",
              "\n",
              "    .colab-df-convert {\n",
              "      background-color: #E8F0FE;\n",
              "      border: none;\n",
              "      border-radius: 50%;\n",
              "      cursor: pointer;\n",
              "      display: none;\n",
              "      fill: #1967D2;\n",
              "      height: 32px;\n",
              "      padding: 0 0 0 0;\n",
              "      width: 32px;\n",
              "    }\n",
              "\n",
              "    .colab-df-convert:hover {\n",
              "      background-color: #E2EBFA;\n",
              "      box-shadow: 0px 1px 2px rgba(60, 64, 67, 0.3), 0px 1px 3px 1px rgba(60, 64, 67, 0.15);\n",
              "      fill: #174EA6;\n",
              "    }\n",
              "\n",
              "    [theme=dark] .colab-df-convert {\n",
              "      background-color: #3B4455;\n",
              "      fill: #D2E3FC;\n",
              "    }\n",
              "\n",
              "    [theme=dark] .colab-df-convert:hover {\n",
              "      background-color: #434B5C;\n",
              "      box-shadow: 0px 1px 3px 1px rgba(0, 0, 0, 0.15);\n",
              "      filter: drop-shadow(0px 1px 2px rgba(0, 0, 0, 0.3));\n",
              "      fill: #FFFFFF;\n",
              "    }\n",
              "  </style>\n",
              "\n",
              "      <script>\n",
              "        const buttonEl =\n",
              "          document.querySelector('#df-0130d429-4a20-4f18-a460-4613b6ed521c button.colab-df-convert');\n",
              "        buttonEl.style.display =\n",
              "          google.colab.kernel.accessAllowed ? 'block' : 'none';\n",
              "\n",
              "        async function convertToInteractive(key) {\n",
              "          const element = document.querySelector('#df-0130d429-4a20-4f18-a460-4613b6ed521c');\n",
              "          const dataTable =\n",
              "            await google.colab.kernel.invokeFunction('convertToInteractive',\n",
              "                                                     [key], {});\n",
              "          if (!dataTable) return;\n",
              "\n",
              "          const docLinkHtml = 'Like what you see? Visit the ' +\n",
              "            '<a target=\"_blank\" href=https://colab.research.google.com/notebooks/data_table.ipynb>data table notebook</a>'\n",
              "            + ' to learn more about interactive tables.';\n",
              "          element.innerHTML = '';\n",
              "          dataTable['output_type'] = 'display_data';\n",
              "          await google.colab.output.renderOutput(dataTable, element);\n",
              "          const docLink = document.createElement('div');\n",
              "          docLink.innerHTML = docLinkHtml;\n",
              "          element.appendChild(docLink);\n",
              "        }\n",
              "      </script>\n",
              "    </div>\n",
              "  </div>\n",
              "  "
            ],
            "text/plain": [
              "  Dataset Partition  Average Score\n",
              "0        Test Score      35.066626\n",
              "1       Train Score      46.470799\n",
              "2  Validation Score      35.278303"
            ]
          },
          "execution_count": 17,
          "metadata": {},
          "output_type": "execute_result"
        }
      ],
      "source": [
        "names = ['Test Score','Train Score','Validation Score']\n",
        "values = [test_score,train_score,val_score]\n",
        "merged = list(zip(names, values))\n",
        "df = pd.DataFrame(merged,columns=['Dataset Partition', 'Average Score'])\n",
        "df\n"
      ]
    },
    {
      "cell_type": "markdown",
      "metadata": {
        "id": "0Vqbwql7twq7"
      },
      "source": [
        "#Density based Clustering"
      ]
    },
    {
      "cell_type": "markdown",
      "metadata": {
        "id": "cCSEEkuyaVLP"
      },
      "source": [
        "Fundamentally, all clustering methods use the same approach i.e. first we calculate similarities and then we use it to cluster the data points into groups or batches. Here we will focus on Density-based spatial clustering of applications with noise (DBSCAN) clustering method. \n",
        "\n",
        "Clusters are dense regions in the data space, separated by regions of the lower density of points. The DBSCAN algorithm is based on this intuitive notion of “clusters” and “noise”. The key idea is that for each point of a cluster, the neighborhood of a given radius has to contain at least a minimum number of points. "
      ]
    },
    {
      "cell_type": "code",
      "execution_count": 66,
      "metadata": {
        "id": "wbX8mrLPtztB"
      },
      "outputs": [],
      "source": [
        "#Creatind an object of DBSCAN and fitting our normalized training data.\n",
        "dbscan = DBSCAN(min_samples=5).fit(norm_x_train)"
      ]
    },
    {
      "cell_type": "code",
      "execution_count": 110,
      "metadata": {
        "colab": {
          "base_uri": "https://localhost:8080/"
        },
        "id": "5G9D6VRKmWx6",
        "outputId": "c954a2e6-2b5e-4e20-f2ad-933c676a1524"
      },
      "outputs": [
        {
          "name": "stdout",
          "output_type": "stream",
          "text": [
            "Labels:  [0 0 0 ... 0 0 0]\n"
          ]
        }
      ],
      "source": [
        "labels_db = dbscan.labels_\n",
        "print(\"Labels: \", labels_db)"
      ]
    },
    {
      "cell_type": "code",
      "execution_count": 105,
      "metadata": {
        "id": "emwAtbNPmWx7"
      },
      "outputs": [],
      "source": [
        "test_pred_db = dbscan.fit_predict(norm_x_test)\n",
        "train_predict_db = dbscan.fit_predict(norm_x_train)\n",
        "val_pred_db = dbscan.fit_predict(norm_x_val)"
      ]
    },
    {
      "cell_type": "code",
      "execution_count": 106,
      "metadata": {
        "id": "Ne0J24tBSKXL"
      },
      "outputs": [],
      "source": [
        "test_score = silhouette_score(y_test, test_pred_db)*100\n",
        "train_score = silhouette_score(y_train, train_predict_db)*100\n",
        "val_score = silhouette_score(y_val, val_pred_db)*100"
      ]
    },
    {
      "cell_type": "code",
      "execution_count": 107,
      "metadata": {
        "colab": {
          "base_uri": "https://localhost:8080/",
          "height": 143
        },
        "id": "pnlxQnaYVuUz",
        "outputId": "d36d102f-17d1-43f5-e27f-f281d5ca1610"
      },
      "outputs": [
        {
          "data": {
            "text/html": [
              "\n",
              "  <div id=\"df-6ce55ea6-5def-4365-97ce-ed36ff915ac6\">\n",
              "    <div class=\"colab-df-container\">\n",
              "      <div>\n",
              "<style scoped>\n",
              "    .dataframe tbody tr th:only-of-type {\n",
              "        vertical-align: middle;\n",
              "    }\n",
              "\n",
              "    .dataframe tbody tr th {\n",
              "        vertical-align: top;\n",
              "    }\n",
              "\n",
              "    .dataframe thead th {\n",
              "        text-align: right;\n",
              "    }\n",
              "</style>\n",
              "<table border=\"1\" class=\"dataframe\">\n",
              "  <thead>\n",
              "    <tr style=\"text-align: right;\">\n",
              "      <th></th>\n",
              "      <th>Dataset Partition</th>\n",
              "      <th>Average Score</th>\n",
              "    </tr>\n",
              "  </thead>\n",
              "  <tbody>\n",
              "    <tr>\n",
              "      <th>0</th>\n",
              "      <td>Test Score</td>\n",
              "      <td>-29.997355</td>\n",
              "    </tr>\n",
              "    <tr>\n",
              "      <th>1</th>\n",
              "      <td>Train Score</td>\n",
              "      <td>-20.836090</td>\n",
              "    </tr>\n",
              "    <tr>\n",
              "      <th>2</th>\n",
              "      <td>Validation Score</td>\n",
              "      <td>-4.620687</td>\n",
              "    </tr>\n",
              "  </tbody>\n",
              "</table>\n",
              "</div>\n",
              "      <button class=\"colab-df-convert\" onclick=\"convertToInteractive('df-6ce55ea6-5def-4365-97ce-ed36ff915ac6')\"\n",
              "              title=\"Convert this dataframe to an interactive table.\"\n",
              "              style=\"display:none;\">\n",
              "        \n",
              "  <svg xmlns=\"http://www.w3.org/2000/svg\" height=\"24px\"viewBox=\"0 0 24 24\"\n",
              "       width=\"24px\">\n",
              "    <path d=\"M0 0h24v24H0V0z\" fill=\"none\"/>\n",
              "    <path d=\"M18.56 5.44l.94 2.06.94-2.06 2.06-.94-2.06-.94-.94-2.06-.94 2.06-2.06.94zm-11 1L8.5 8.5l.94-2.06 2.06-.94-2.06-.94L8.5 2.5l-.94 2.06-2.06.94zm10 10l.94 2.06.94-2.06 2.06-.94-2.06-.94-.94-2.06-.94 2.06-2.06.94z\"/><path d=\"M17.41 7.96l-1.37-1.37c-.4-.4-.92-.59-1.43-.59-.52 0-1.04.2-1.43.59L10.3 9.45l-7.72 7.72c-.78.78-.78 2.05 0 2.83L4 21.41c.39.39.9.59 1.41.59.51 0 1.02-.2 1.41-.59l7.78-7.78 2.81-2.81c.8-.78.8-2.07 0-2.86zM5.41 20L4 18.59l7.72-7.72 1.47 1.35L5.41 20z\"/>\n",
              "  </svg>\n",
              "      </button>\n",
              "      \n",
              "  <style>\n",
              "    .colab-df-container {\n",
              "      display:flex;\n",
              "      flex-wrap:wrap;\n",
              "      gap: 12px;\n",
              "    }\n",
              "\n",
              "    .colab-df-convert {\n",
              "      background-color: #E8F0FE;\n",
              "      border: none;\n",
              "      border-radius: 50%;\n",
              "      cursor: pointer;\n",
              "      display: none;\n",
              "      fill: #1967D2;\n",
              "      height: 32px;\n",
              "      padding: 0 0 0 0;\n",
              "      width: 32px;\n",
              "    }\n",
              "\n",
              "    .colab-df-convert:hover {\n",
              "      background-color: #E2EBFA;\n",
              "      box-shadow: 0px 1px 2px rgba(60, 64, 67, 0.3), 0px 1px 3px 1px rgba(60, 64, 67, 0.15);\n",
              "      fill: #174EA6;\n",
              "    }\n",
              "\n",
              "    [theme=dark] .colab-df-convert {\n",
              "      background-color: #3B4455;\n",
              "      fill: #D2E3FC;\n",
              "    }\n",
              "\n",
              "    [theme=dark] .colab-df-convert:hover {\n",
              "      background-color: #434B5C;\n",
              "      box-shadow: 0px 1px 3px 1px rgba(0, 0, 0, 0.15);\n",
              "      filter: drop-shadow(0px 1px 2px rgba(0, 0, 0, 0.3));\n",
              "      fill: #FFFFFF;\n",
              "    }\n",
              "  </style>\n",
              "\n",
              "      <script>\n",
              "        const buttonEl =\n",
              "          document.querySelector('#df-6ce55ea6-5def-4365-97ce-ed36ff915ac6 button.colab-df-convert');\n",
              "        buttonEl.style.display =\n",
              "          google.colab.kernel.accessAllowed ? 'block' : 'none';\n",
              "\n",
              "        async function convertToInteractive(key) {\n",
              "          const element = document.querySelector('#df-6ce55ea6-5def-4365-97ce-ed36ff915ac6');\n",
              "          const dataTable =\n",
              "            await google.colab.kernel.invokeFunction('convertToInteractive',\n",
              "                                                     [key], {});\n",
              "          if (!dataTable) return;\n",
              "\n",
              "          const docLinkHtml = 'Like what you see? Visit the ' +\n",
              "            '<a target=\"_blank\" href=https://colab.research.google.com/notebooks/data_table.ipynb>data table notebook</a>'\n",
              "            + ' to learn more about interactive tables.';\n",
              "          element.innerHTML = '';\n",
              "          dataTable['output_type'] = 'display_data';\n",
              "          await google.colab.output.renderOutput(dataTable, element);\n",
              "          const docLink = document.createElement('div');\n",
              "          docLink.innerHTML = docLinkHtml;\n",
              "          element.appendChild(docLink);\n",
              "        }\n",
              "      </script>\n",
              "    </div>\n",
              "  </div>\n",
              "  "
            ],
            "text/plain": [
              "  Dataset Partition  Average Score\n",
              "0        Test Score     -29.997355\n",
              "1       Train Score     -20.836090\n",
              "2  Validation Score      -4.620687"
            ]
          },
          "execution_count": 107,
          "metadata": {},
          "output_type": "execute_result"
        }
      ],
      "source": [
        "names = ['Test Score','Train Score','Validation Score']\n",
        "values = [test_score,train_score,val_score]\n",
        "merged = list(zip(names, values))\n",
        "df = pd.DataFrame(merged,columns=['Dataset Partition', 'Average Score'])\n",
        "df\n",
        "\n"
      ]
    },
    {
      "cell_type": "markdown",
      "metadata": {
        "id": "LR5PO2VzvohI"
      },
      "source": [
        "Which performed better?\n",
        "* The DBSCAN algorithm has -ve silhouette score, meaning it doesn't generalize well on the data the model has not seen.\n",
        "* Agglomerative clustering is better as it is able to generalize data well enough to put it into its appropriate cluster."
      ]
    }
  ],
  "metadata": {
    "colab": {
      "collapsed_sections": [],
      "provenance": []
    },
    "kernelspec": {
      "display_name": "Python 3",
      "language": "python",
      "name": "python3"
    },
    "language_info": {
      "codemirror_mode": {
        "name": "ipython",
        "version": 3
      },
      "file_extension": ".py",
      "mimetype": "text/x-python",
      "name": "python",
      "nbconvert_exporter": "python",
      "pygments_lexer": "ipython3",
      "version": "3.8.8"
    }
  },
  "nbformat": 4,
  "nbformat_minor": 0
}
