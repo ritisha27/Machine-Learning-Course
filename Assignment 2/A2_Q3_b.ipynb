{
  "nbformat": 4,
  "nbformat_minor": 0,
  "metadata": {
    "colab": {
      "provenance": [],
      "collapsed_sections": []
    },
    "kernelspec": {
      "name": "python3",
      "display_name": "Python 3"
    },
    "language_info": {
      "name": "python"
    }
  },
  "cells": [
    {
      "cell_type": "code",
      "source": [
        "!pip install idx2numpy"
      ],
      "metadata": {
        "colab": {
          "base_uri": "https://localhost:8080/"
        },
        "id": "QDD6VOBetAYj",
        "outputId": "2bce5c4e-dcec-484c-9a83-b4a0293cbb62"
      },
      "execution_count": null,
      "outputs": [
        {
          "output_type": "stream",
          "name": "stdout",
          "text": [
            "Looking in indexes: https://pypi.org/simple, https://us-python.pkg.dev/colab-wheels/public/simple/\n",
            "Requirement already satisfied: idx2numpy in /usr/local/lib/python3.7/dist-packages (1.2.3)\n",
            "Requirement already satisfied: numpy in /usr/local/lib/python3.7/dist-packages (from idx2numpy) (1.21.6)\n",
            "Requirement already satisfied: six in /usr/local/lib/python3.7/dist-packages (from idx2numpy) (1.15.0)\n"
          ]
        }
      ]
    },
    {
      "cell_type": "code",
      "execution_count": null,
      "metadata": {
        "id": "z-RF2CGQZl8A"
      },
      "outputs": [],
      "source": [
        "#importing all the necessary libraries.\n",
        "import numpy as np\n",
        "import pandas as pd\n",
        "import matplotlib.pyplot as plt\n",
        "import seaborn as sns\n",
        "import sklearn as sk\n",
        "import os\n",
        "import cv2 as cv\n",
        "import warnings\n",
        "import random\n",
        "import idx2numpy\n",
        "from sklearn.multiclass import OneVsRestClassifier\n",
        "from sklearn.multiclass import OneVsOneClassifier\n",
        "from sklearn.linear_model import LogisticRegression\n",
        "from sklearn.metrics import accuracy_score,confusion_matrix\n",
        "warnings.filterwarnings('ignore')"
      ]
    },
    {
      "cell_type": "code",
      "source": [
        "from google.colab import drive\n",
        "drive.mount('/content/gdrive')"
      ],
      "metadata": {
        "colab": {
          "base_uri": "https://localhost:8080/"
        },
        "id": "CGhBg6v-7aVe",
        "outputId": "cef402ef-9203-4584-fee2-8c3bdb3c9446"
      },
      "execution_count": null,
      "outputs": [
        {
          "output_type": "stream",
          "name": "stdout",
          "text": [
            "Drive already mounted at /content/gdrive; to attempt to forcibly remount, call drive.mount(\"/content/gdrive\", force_remount=True).\n"
          ]
        }
      ]
    },
    {
      "cell_type": "code",
      "source": [
        "file_path = \"gdrive/MyDrive/A2_Q3\""
      ],
      "metadata": {
        "id": "rpD5Wi4haS-s"
      },
      "execution_count": null,
      "outputs": []
    },
    {
      "cell_type": "code",
      "source": [
        "#converting datasets to nd-array using convert_file_from using id2numpy.\n",
        "#idx2 is a numpy package that is used for converting files to numpy.ndarray. \n",
        "x_test= idx2numpy.convert_from_file('/content/gdrive/MyDrive/A2_Q3/t10k-images-idx3-ubyte')\n",
        "y_test= idx2numpy.convert_from_file('/content/gdrive/MyDrive/A2_Q3/t10k-labels-idx1-ubyte')\n",
        "x_train= idx2numpy.convert_from_file('/content/gdrive/MyDrive/A2_Q3/train-images-idx3-ubyte')\n",
        "y_train= idx2numpy.convert_from_file('/content/gdrive/MyDrive/A2_Q3/train-labels-idx1-ubyte')"
      ],
      "metadata": {
        "id": "UDjTDtnpChMy"
      },
      "execution_count": null,
      "outputs": []
    },
    {
      "cell_type": "code",
      "source": [
        "print(x_train.shape)\n",
        "print(y_train.shape)\n",
        "print(x_test.shape)\n",
        "print(y_test.shape)"
      ],
      "metadata": {
        "colab": {
          "base_uri": "https://localhost:8080/"
        },
        "id": "5cw0FtIM37tE",
        "outputId": "d476ad1e-39d6-4e4a-a864-e5af8e965dac"
      },
      "execution_count": null,
      "outputs": [
        {
          "output_type": "stream",
          "name": "stdout",
          "text": [
            "(60000, 28, 28)\n",
            "(60000,)\n",
            "(10000, 28, 28)\n",
            "(10000,)\n"
          ]
        }
      ]
    },
    {
      "cell_type": "markdown",
      "source": [
        "#Visualization"
      ],
      "metadata": {
        "id": "3-59xlJqCnKa"
      }
    },
    {
      "cell_type": "code",
      "source": [
        "\n",
        "temp = []                       #temp is the temporary array that stores all the indexes from y_train corresponding to each class.\n",
        "indexes = []                    #indexes is the array that stores the first 2 elements of temp array.\n",
        "\n",
        "for i in range(10):\n",
        "  temp.append(np.where(y_train == i))\n",
        "\n",
        "\n",
        "for i in range(10):\n",
        "  a=temp[i][0][0]\n",
        "  b=temp[i][0][1]\n",
        "  indexes.extend([a,b])\n",
        "\n",
        "print('Temporary Array :')\n",
        "print(temp)\n",
        "print('\\n\\nIndexes Array :',indexes)"
      ],
      "metadata": {
        "colab": {
          "base_uri": "https://localhost:8080/"
        },
        "id": "D6Yz29p_CmnV",
        "outputId": "5e9a496a-5462-4a06-d1a2-e0e036d1afee"
      },
      "execution_count": null,
      "outputs": [
        {
          "output_type": "stream",
          "name": "stdout",
          "text": [
            "Temporary Array :\n",
            "[(array([    1,    21,    34, ..., 59952, 59972, 59987]),), (array([    3,     6,     8, ..., 59979, 59984, 59994]),), (array([    5,    16,    25, ..., 59983, 59985, 59991]),), (array([    7,    10,    12, ..., 59978, 59980, 59996]),), (array([    2,     9,    20, ..., 59943, 59951, 59975]),), (array([    0,    11,    35, ..., 59968, 59993, 59997]),), (array([   13,    18,    32, ..., 59982, 59986, 59998]),), (array([   15,    29,    38, ..., 59963, 59977, 59988]),), (array([   17,    31,    41, ..., 59989, 59995, 59999]),), (array([    4,    19,    22, ..., 59973, 59990, 59992]),)]\n",
            "\n",
            "\n",
            "Indexes Array : [1, 21, 3, 6, 5, 16, 7, 10, 2, 9, 0, 11, 13, 18, 15, 29, 17, 31, 4, 19]\n"
          ]
        }
      ]
    },
    {
      "cell_type": "code",
      "source": [
        "#taking values from indexes array and printing from x_train[index].\n",
        "plt.figure(figsize=(8,20))\n",
        "for i in range(len(indexes)):\n",
        "  plt.subplot(10,2,i+1)\n",
        "  plt.imshow(x_train[indexes[i]])\n",
        "plt.show()\n"
      ],
      "metadata": {
        "colab": {
          "base_uri": "https://localhost:8080/",
          "height": 1000
        },
        "id": "4avTLjFOIeFv",
        "outputId": "5f3afd62-e72b-4130-ab76-8e1b091befe6"
      },
      "execution_count": null,
      "outputs": [
        {
          "output_type": "display_data",
          "data": {
            "text/plain": [
              "<Figure size 576x1440 with 20 Axes>"
            ],
            "image/png": "[encoded data removed]"
          },
          "metadata": {
            "needs_background": "light"
          }
        }
      ]
    },
    {
      "cell_type": "markdown",
      "source": [
        "#OVR (One vs Rest)"
      ],
      "metadata": {
        "id": "m_hPQg8CCrdY"
      }
    },
    {
      "cell_type": "markdown",
      "source": [
        "##### One-vs-Rest (OvR) or One-vs-All(OvA) is an approach to making binary classification algorithms capable of working as multiclass classification algorithms. This approach mainly splits the multiclass data as binary classification data so that the binary classification algorithms can be applied to convert binary classification data. "
      ],
      "metadata": {
        "id": "tQpoDPanzzHN"
      }
    },
    {
      "cell_type": "code",
      "source": [
        "#Reshaping dataset to 2D format.\n",
        "\n",
        "x_test = x_test.reshape((-1,784))\n",
        "x_train = x_train.reshape((-1,784))"
      ],
      "metadata": {
        "id": "DsifBtM4zksC"
      },
      "execution_count": null,
      "outputs": []
    },
    {
      "cell_type": "code",
      "source": [
        "#making object of OVR and fitting the model.\n",
        "ovr_model = OneVsRestClassifier(LogisticRegression())\n",
        "ovr_model.fit(x_train, y_train)"
      ],
      "metadata": {
        "colab": {
          "base_uri": "https://localhost:8080/"
        },
        "id": "G7zzxzW6z3PO",
        "outputId": "f6ef101d-d936-4401-b683-c2b0a5d82aba"
      },
      "execution_count": null,
      "outputs": [
        {
          "output_type": "execute_result",
          "data": {
            "text/plain": [
              "OneVsRestClassifier(estimator=LogisticRegression())"
            ]
          },
          "metadata": {},
          "execution_count": 41
        }
      ]
    },
    {
      "cell_type": "code",
      "source": [
        "y_pred = ovr_model.predict(x_test)"
      ],
      "metadata": {
        "id": "QG9GmBqu2jUo"
      },
      "execution_count": null,
      "outputs": []
    },
    {
      "cell_type": "markdown",
      "source": [
        "#####Accuracy is the ratio of the number of correctly classified instances to the total number of instances. In onther words, Accuracy = sum of all diagonal elements/total elements => (TP+TN)/(TP+TN+FP+FN). "
      ],
      "metadata": {
        "id": "OGCQ7CLzm0QF"
      }
    },
    {
      "cell_type": "code",
      "source": [
        "matrix = confusion_matrix(y_test, y_pred)\n",
        "arr = matrix.diagonal()/matrix.sum(axis=1)\n",
        "for i in range(len(arr)):\n",
        "  x = round(arr[i], 3)\n",
        "  print('Accuracy of class {}: {}'.format(i,x))"
      ],
      "metadata": {
        "colab": {
          "base_uri": "https://localhost:8080/"
        },
        "id": "HB8ZHcPL8yAe",
        "outputId": "cf27ab70-cf48-42f8-cd07-b2e30653c0d7"
      },
      "execution_count": 46,
      "outputs": [
        {
          "output_type": "stream",
          "name": "stdout",
          "text": [
            "Accuracy of class 0: 0.977\n",
            "Accuracy of class 1: 0.983\n",
            "Accuracy of class 2: 0.877\n",
            "Accuracy of class 3: 0.906\n",
            "Accuracy of class 4: 0.927\n",
            "Accuracy of class 5: 0.854\n",
            "Accuracy of class 6: 0.949\n",
            "Accuracy of class 7: 0.919\n",
            "Accuracy of class 8: 0.877\n",
            "Accuracy of class 9: 0.897\n"
          ]
        }
      ]
    },
    {
      "cell_type": "code",
      "source": [
        "print('Accuracy of OvR Classifier: {:.2f}'.format(accuracy_score(y_test, y_pred)))"
      ],
      "metadata": {
        "colab": {
          "base_uri": "https://localhost:8080/"
        },
        "id": "ByKASqge4ccE",
        "outputId": "e4ed868b-1d9b-49c7-e99c-ebcd8fb78752"
      },
      "execution_count": 47,
      "outputs": [
        {
          "output_type": "stream",
          "name": "stdout",
          "text": [
            "Accuracy of OvR Classifier: 0.92\n"
          ]
        }
      ]
    },
    {
      "cell_type": "markdown",
      "source": [
        "#OVO (One vs One)"
      ],
      "metadata": {
        "id": "2153oOGJCwVI"
      }
    },
    {
      "cell_type": "code",
      "source": [
        "ovo_model = OneVsOneClassifier(LogisticRegression())\n",
        "ovo_model.fit(x_train, y_train)\n",
        "\n",
        "y_pred = ovo_model.predict(x_test)\n"
      ],
      "metadata": {
        "colab": {
          "base_uri": "https://localhost:8080/"
        },
        "id": "32isTdZP4wmd",
        "outputId": "623eabf3-1ea3-47d1-d1b5-1862880fc6ad"
      },
      "execution_count": 48,
      "outputs": [
        {
          "output_type": "stream",
          "name": "stdout",
          "text": [
            "Accuracy of OvO Classifier: 0.93\n"
          ]
        }
      ]
    },
    {
      "cell_type": "code",
      "source": [
        "matrix = confusion_matrix(y_test, y_pred)\n",
        "arr = matrix.diagonal()/matrix.sum(axis=1)\n",
        "for i in range(len(arr)):\n",
        "  x = round(arr[i], 3)\n",
        "  print('Accuracy of class {}: {}'.format(i,x))"
      ],
      "metadata": {
        "colab": {
          "base_uri": "https://localhost:8080/"
        },
        "id": "sJ3WkdQuAgXh",
        "outputId": "38b7f406-a8f4-44b8-9b18-5cd11be7cba3"
      },
      "execution_count": 49,
      "outputs": [
        {
          "output_type": "stream",
          "name": "stdout",
          "text": [
            "Accuracy of class 0: 0.971\n",
            "Accuracy of class 1: 0.976\n",
            "Accuracy of class 2: 0.914\n",
            "Accuracy of class 3: 0.921\n",
            "Accuracy of class 4: 0.956\n",
            "Accuracy of class 5: 0.865\n",
            "Accuracy of class 6: 0.941\n",
            "Accuracy of class 7: 0.926\n",
            "Accuracy of class 8: 0.897\n",
            "Accuracy of class 9: 0.897\n"
          ]
        }
      ]
    },
    {
      "cell_type": "code",
      "source": [
        "print('Accuracy of OvO Classifier: {:.2f}'.format(accuracy_score(y_test, y_pred)))"
      ],
      "metadata": {
        "id": "zaS33XU-jBzm",
        "colab": {
          "base_uri": "https://localhost:8080/"
        },
        "outputId": "1cda45e6-dbc8-4fb4-eccd-c4628d762319"
      },
      "execution_count": 50,
      "outputs": [
        {
          "output_type": "stream",
          "name": "stdout",
          "text": [
            "Accuracy of OvO Classifier: 0.93\n"
          ]
        }
      ]
    },
    {
      "cell_type": "code",
      "source": [],
      "metadata": {
        "id": "f2YdRzJqpGZg"
      },
      "execution_count": null,
      "outputs": []
    }
  ]
}